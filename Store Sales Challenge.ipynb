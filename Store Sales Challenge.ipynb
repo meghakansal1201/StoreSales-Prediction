{
 "cells": [
  {
   "cell_type": "markdown",
   "metadata": {},
   "source": [
    "# __Welcome to the Store Sales Challenge!__\n",
    "\n",
    "This notebook provides you some code to setup a Store Data Engineering problem.  \n",
    "\n",
    "Goal: We want you to predict the number of __sales_per_day__ (= label) with the given dataset and put it into production.\n",
    "\n",
    "\n",
    "Short explanation of the dataset: \n",
    "- __outlet_id__: The ID of a outlet/market\n",
    "- __country__: The country in which the outlet is located\n",
    "- __brand__: \n",
    "- __customers_per_day__: The number of customers per day in this outlet \n",
    "- __sales_per_day__: The amount of sales for a specific outlet on a specific day\n",
    "- __currency__: The currency of __sales_per_day__\n",
    "- __week_id__: Calendar week \n",
    "- __weekday__: mon = Monday, tue = Tuesday, ... , sun = Sunday"
   ]
  },
  {
   "cell_type": "markdown",
   "metadata": {},
   "source": [
    "# Load Libraries"
   ]
  },
  {
   "cell_type": "code",
   "execution_count": 2,
   "metadata": {},
   "outputs": [],
   "source": [
    "# Analysis and EDA\n",
    "import numpy as np\n",
    "import pandas as pd\n",
    "import matplotlib.pyplot as plt\n",
    "import seaborn as sns\n",
    "from scipy import stats\n",
    "\n",
    "\n",
    "# Machine Learning\n",
    "## Feature Scaling\n",
    "from sklearn.preprocessing import LabelEncoder\n",
    "from sklearn.model_selection import train_test_split\n",
    "from sklearn.preprocessing import StandardScaler\n",
    "\n",
    "## ML Models Diffrent Algorithms\n",
    "from sklearn.preprocessing import LabelEncoder\n",
    "from sklearn.model_selection import train_test_split\n",
    "from sklearn.model_selection  import cross_val_score\n",
    "from sklearn import metrics\n",
    "from sklearn.preprocessing import StandardScaler\n",
    "from sklearn.linear_model import LinearRegression\n",
    "from sklearn.ensemble import RandomForestRegressor\n",
    "from sklearn.model_selection import RandomizedSearchCV\n",
    "\n",
    "## Metrics\n",
    "from sklearn.metrics import r2_score\n",
    "\n",
    "## Comparision of Performance of all Algorithms\n",
    "\n",
    "\n",
    "\n",
    "#ignore warnings\n",
    "import warnings\n",
    "warnings.filterwarnings('ignore')"
   ]
  },
  {
   "cell_type": "code",
   "execution_count": 4,
   "metadata": {},
   "outputs": [
    {
     "data": {
      "text/html": [
       "<div>\n",
       "<style scoped>\n",
       "    .dataframe tbody tr th:only-of-type {\n",
       "        vertical-align: middle;\n",
       "    }\n",
       "\n",
       "    .dataframe tbody tr th {\n",
       "        vertical-align: top;\n",
       "    }\n",
       "\n",
       "    .dataframe thead th {\n",
       "        text-align: right;\n",
       "    }\n",
       "</style>\n",
       "<table border=\"1\" class=\"dataframe\">\n",
       "  <thead>\n",
       "    <tr style=\"text-align: right;\">\n",
       "      <th></th>\n",
       "      <th>brand</th>\n",
       "      <th>country</th>\n",
       "      <th>currency</th>\n",
       "      <th>customers_per_day</th>\n",
       "      <th>outlet_id</th>\n",
       "      <th>week_id</th>\n",
       "      <th>weekday</th>\n",
       "      <th>sales_per_day</th>\n",
       "    </tr>\n",
       "  </thead>\n",
       "  <tbody>\n",
       "    <tr>\n",
       "      <th>0</th>\n",
       "      <td>MediaMarkt</td>\n",
       "      <td>spain</td>\n",
       "      <td>EURO</td>\n",
       "      <td>3138.0</td>\n",
       "      <td>100.0</td>\n",
       "      <td>34.0</td>\n",
       "      <td>sat</td>\n",
       "      <td>72169.14</td>\n",
       "    </tr>\n",
       "    <tr>\n",
       "      <th>1</th>\n",
       "      <td>Saturn</td>\n",
       "      <td>germany</td>\n",
       "      <td>EURO</td>\n",
       "      <td>378.0</td>\n",
       "      <td>86.0</td>\n",
       "      <td>8.0</td>\n",
       "      <td>mon</td>\n",
       "      <td>52825.62</td>\n",
       "    </tr>\n",
       "    <tr>\n",
       "      <th>2</th>\n",
       "      <td>MediaMarkt</td>\n",
       "      <td>italy</td>\n",
       "      <td>EURO</td>\n",
       "      <td>379.0</td>\n",
       "      <td>530.0</td>\n",
       "      <td>28.0</td>\n",
       "      <td>thu</td>\n",
       "      <td>53309.83</td>\n",
       "    </tr>\n",
       "    <tr>\n",
       "      <th>3</th>\n",
       "      <td>Saturn</td>\n",
       "      <td>germany</td>\n",
       "      <td>EURO</td>\n",
       "      <td>3050.0</td>\n",
       "      <td>17.0</td>\n",
       "      <td>47.0</td>\n",
       "      <td>sat</td>\n",
       "      <td>74237.45</td>\n",
       "    </tr>\n",
       "    <tr>\n",
       "      <th>4</th>\n",
       "      <td>MediaMarkt</td>\n",
       "      <td>spain</td>\n",
       "      <td>EURO</td>\n",
       "      <td>548.0</td>\n",
       "      <td>164.0</td>\n",
       "      <td>7.0</td>\n",
       "      <td>tue</td>\n",
       "      <td>56621.61</td>\n",
       "    </tr>\n",
       "  </tbody>\n",
       "</table>\n",
       "</div>"
      ],
      "text/plain": [
       "        brand  country currency  customers_per_day  outlet_id  week_id  \\\n",
       "0  MediaMarkt    spain     EURO             3138.0      100.0     34.0   \n",
       "1      Saturn  germany     EURO              378.0       86.0      8.0   \n",
       "2  MediaMarkt    italy     EURO              379.0      530.0     28.0   \n",
       "3      Saturn  germany     EURO             3050.0       17.0     47.0   \n",
       "4  MediaMarkt    spain     EURO              548.0      164.0      7.0   \n",
       "\n",
       "  weekday  sales_per_day  \n",
       "0     sat       72169.14  \n",
       "1     mon       52825.62  \n",
       "2     thu       53309.83  \n",
       "3     sat       74237.45  \n",
       "4     tue       56621.61  "
      ]
     },
     "execution_count": 4,
     "metadata": {},
     "output_type": "execute_result"
    }
   ],
   "source": [
    "data = pd.read_csv('data.csv',sep=';')\n",
    "data.head()"
   ]
  },
  {
   "cell_type": "code",
   "execution_count": 3,
   "metadata": {},
   "outputs": [],
   "source": [
    "df = data.copy()"
   ]
  },
  {
   "cell_type": "code",
   "execution_count": 4,
   "metadata": {},
   "outputs": [
    {
     "data": {
      "text/html": [
       "<div>\n",
       "<style scoped>\n",
       "    .dataframe tbody tr th:only-of-type {\n",
       "        vertical-align: middle;\n",
       "    }\n",
       "\n",
       "    .dataframe tbody tr th {\n",
       "        vertical-align: top;\n",
       "    }\n",
       "\n",
       "    .dataframe thead th {\n",
       "        text-align: right;\n",
       "    }\n",
       "</style>\n",
       "<table border=\"1\" class=\"dataframe\">\n",
       "  <thead>\n",
       "    <tr style=\"text-align: right;\">\n",
       "      <th></th>\n",
       "      <th>brand</th>\n",
       "      <th>country</th>\n",
       "      <th>currency</th>\n",
       "      <th>customers_per_day</th>\n",
       "      <th>outlet_id</th>\n",
       "      <th>week_id</th>\n",
       "      <th>weekday</th>\n",
       "      <th>sales_per_day</th>\n",
       "    </tr>\n",
       "  </thead>\n",
       "  <tbody>\n",
       "    <tr>\n",
       "      <th>0</th>\n",
       "      <td>MediaMarkt</td>\n",
       "      <td>spain</td>\n",
       "      <td>EURO</td>\n",
       "      <td>3138.0</td>\n",
       "      <td>100.0</td>\n",
       "      <td>34.0</td>\n",
       "      <td>sat</td>\n",
       "      <td>72169.14</td>\n",
       "    </tr>\n",
       "    <tr>\n",
       "      <th>1</th>\n",
       "      <td>Saturn</td>\n",
       "      <td>germany</td>\n",
       "      <td>EURO</td>\n",
       "      <td>378.0</td>\n",
       "      <td>86.0</td>\n",
       "      <td>8.0</td>\n",
       "      <td>mon</td>\n",
       "      <td>52825.62</td>\n",
       "    </tr>\n",
       "    <tr>\n",
       "      <th>2</th>\n",
       "      <td>MediaMarkt</td>\n",
       "      <td>italy</td>\n",
       "      <td>EURO</td>\n",
       "      <td>379.0</td>\n",
       "      <td>530.0</td>\n",
       "      <td>28.0</td>\n",
       "      <td>thu</td>\n",
       "      <td>53309.83</td>\n",
       "    </tr>\n",
       "    <tr>\n",
       "      <th>3</th>\n",
       "      <td>Saturn</td>\n",
       "      <td>germany</td>\n",
       "      <td>EURO</td>\n",
       "      <td>3050.0</td>\n",
       "      <td>17.0</td>\n",
       "      <td>47.0</td>\n",
       "      <td>sat</td>\n",
       "      <td>74237.45</td>\n",
       "    </tr>\n",
       "    <tr>\n",
       "      <th>4</th>\n",
       "      <td>MediaMarkt</td>\n",
       "      <td>spain</td>\n",
       "      <td>EURO</td>\n",
       "      <td>548.0</td>\n",
       "      <td>164.0</td>\n",
       "      <td>7.0</td>\n",
       "      <td>tue</td>\n",
       "      <td>56621.61</td>\n",
       "    </tr>\n",
       "    <tr>\n",
       "      <th>5</th>\n",
       "      <td>MediaMarkt</td>\n",
       "      <td>austria</td>\n",
       "      <td>EURO</td>\n",
       "      <td>1424.0</td>\n",
       "      <td>399.0</td>\n",
       "      <td>7.0</td>\n",
       "      <td>fri</td>\n",
       "      <td>59294.79</td>\n",
       "    </tr>\n",
       "    <tr>\n",
       "      <th>6</th>\n",
       "      <td>MediaMarkt</td>\n",
       "      <td>italy</td>\n",
       "      <td>EURO</td>\n",
       "      <td>479.0</td>\n",
       "      <td>598.0</td>\n",
       "      <td>46.0</td>\n",
       "      <td>thu</td>\n",
       "      <td>61603.64</td>\n",
       "    </tr>\n",
       "    <tr>\n",
       "      <th>7</th>\n",
       "      <td>MediaMarkt</td>\n",
       "      <td>austria</td>\n",
       "      <td>EURO</td>\n",
       "      <td>2028.0</td>\n",
       "      <td>342.0</td>\n",
       "      <td>36.0</td>\n",
       "      <td>sat</td>\n",
       "      <td>-999999.00</td>\n",
       "    </tr>\n",
       "    <tr>\n",
       "      <th>8</th>\n",
       "      <td>MediaMarkt</td>\n",
       "      <td>germany</td>\n",
       "      <td>EURO</td>\n",
       "      <td>1425.0</td>\n",
       "      <td>56.0</td>\n",
       "      <td>46.0</td>\n",
       "      <td>fri</td>\n",
       "      <td>62742.69</td>\n",
       "    </tr>\n",
       "    <tr>\n",
       "      <th>9</th>\n",
       "      <td>MediaMarkt</td>\n",
       "      <td>switzerland</td>\n",
       "      <td>CHF</td>\n",
       "      <td>266.0</td>\n",
       "      <td>477.0</td>\n",
       "      <td>10.0</td>\n",
       "      <td>mon</td>\n",
       "      <td>51922.36</td>\n",
       "    </tr>\n",
       "  </tbody>\n",
       "</table>\n",
       "</div>"
      ],
      "text/plain": [
       "        brand      country currency  customers_per_day  outlet_id  week_id  \\\n",
       "0  MediaMarkt        spain     EURO             3138.0      100.0     34.0   \n",
       "1      Saturn      germany     EURO              378.0       86.0      8.0   \n",
       "2  MediaMarkt        italy     EURO              379.0      530.0     28.0   \n",
       "3      Saturn      germany     EURO             3050.0       17.0     47.0   \n",
       "4  MediaMarkt        spain     EURO              548.0      164.0      7.0   \n",
       "5  MediaMarkt      austria     EURO             1424.0      399.0      7.0   \n",
       "6  MediaMarkt        italy     EURO              479.0      598.0     46.0   \n",
       "7  MediaMarkt      austria     EURO             2028.0      342.0     36.0   \n",
       "8  MediaMarkt      germany     EURO             1425.0       56.0     46.0   \n",
       "9  MediaMarkt  switzerland      CHF              266.0      477.0     10.0   \n",
       "\n",
       "  weekday  sales_per_day  \n",
       "0     sat       72169.14  \n",
       "1     mon       52825.62  \n",
       "2     thu       53309.83  \n",
       "3     sat       74237.45  \n",
       "4     tue       56621.61  \n",
       "5     fri       59294.79  \n",
       "6     thu       61603.64  \n",
       "7     sat     -999999.00  \n",
       "8     fri       62742.69  \n",
       "9     mon       51922.36  "
      ]
     },
     "execution_count": 4,
     "metadata": {},
     "output_type": "execute_result"
    }
   ],
   "source": [
    "df.head(10)"
   ]
  },
  {
   "cell_type": "code",
   "execution_count": 5,
   "metadata": {},
   "outputs": [
    {
     "data": {
      "text/html": [
       "<div>\n",
       "<style scoped>\n",
       "    .dataframe tbody tr th:only-of-type {\n",
       "        vertical-align: middle;\n",
       "    }\n",
       "\n",
       "    .dataframe tbody tr th {\n",
       "        vertical-align: top;\n",
       "    }\n",
       "\n",
       "    .dataframe thead th {\n",
       "        text-align: right;\n",
       "    }\n",
       "</style>\n",
       "<table border=\"1\" class=\"dataframe\">\n",
       "  <thead>\n",
       "    <tr style=\"text-align: right;\">\n",
       "      <th></th>\n",
       "      <th>brand</th>\n",
       "      <th>country</th>\n",
       "      <th>currency</th>\n",
       "      <th>customers_per_day</th>\n",
       "      <th>outlet_id</th>\n",
       "      <th>week_id</th>\n",
       "      <th>weekday</th>\n",
       "      <th>sales_per_day</th>\n",
       "    </tr>\n",
       "  </thead>\n",
       "  <tbody>\n",
       "    <tr>\n",
       "      <th>18202</th>\n",
       "      <td>MediaMarkt</td>\n",
       "      <td>greece</td>\n",
       "      <td>EURO</td>\n",
       "      <td>0.0</td>\n",
       "      <td>255.0</td>\n",
       "      <td>21.0</td>\n",
       "      <td>sun</td>\n",
       "      <td>0.00</td>\n",
       "    </tr>\n",
       "    <tr>\n",
       "      <th>18203</th>\n",
       "      <td>MediaMarkt</td>\n",
       "      <td>germany</td>\n",
       "      <td>EURO</td>\n",
       "      <td>599.0</td>\n",
       "      <td>79.0</td>\n",
       "      <td>28.0</td>\n",
       "      <td>tue</td>\n",
       "      <td>59706.64</td>\n",
       "    </tr>\n",
       "    <tr>\n",
       "      <th>18204</th>\n",
       "      <td>MediaMarkt</td>\n",
       "      <td>germany</td>\n",
       "      <td>EURO</td>\n",
       "      <td>230.0</td>\n",
       "      <td>99.0</td>\n",
       "      <td>29.0</td>\n",
       "      <td>mon</td>\n",
       "      <td>54474.81</td>\n",
       "    </tr>\n",
       "    <tr>\n",
       "      <th>18205</th>\n",
       "      <td>MediaMarkt</td>\n",
       "      <td>germany</td>\n",
       "      <td>EURO</td>\n",
       "      <td>403.0</td>\n",
       "      <td>99.0</td>\n",
       "      <td>50.0</td>\n",
       "      <td>mon</td>\n",
       "      <td>56045.90</td>\n",
       "    </tr>\n",
       "    <tr>\n",
       "      <th>18206</th>\n",
       "      <td>MediaMarkt</td>\n",
       "      <td>austria</td>\n",
       "      <td>EURO</td>\n",
       "      <td>595.0</td>\n",
       "      <td>334.0</td>\n",
       "      <td>45.0</td>\n",
       "      <td>thu</td>\n",
       "      <td>55690.77</td>\n",
       "    </tr>\n",
       "  </tbody>\n",
       "</table>\n",
       "</div>"
      ],
      "text/plain": [
       "            brand  country currency  customers_per_day  outlet_id  week_id  \\\n",
       "18202  MediaMarkt   greece     EURO                0.0      255.0     21.0   \n",
       "18203  MediaMarkt  germany     EURO              599.0       79.0     28.0   \n",
       "18204  MediaMarkt  germany     EURO              230.0       99.0     29.0   \n",
       "18205  MediaMarkt  germany     EURO              403.0       99.0     50.0   \n",
       "18206  MediaMarkt  austria     EURO              595.0      334.0     45.0   \n",
       "\n",
       "      weekday  sales_per_day  \n",
       "18202     sun           0.00  \n",
       "18203     tue       59706.64  \n",
       "18204     mon       54474.81  \n",
       "18205     mon       56045.90  \n",
       "18206     thu       55690.77  "
      ]
     },
     "execution_count": 5,
     "metadata": {},
     "output_type": "execute_result"
    }
   ],
   "source": [
    "df.tail()"
   ]
  },
  {
   "cell_type": "markdown",
   "metadata": {},
   "source": [
    "# Challenge\n",
    "Now it is your turn. Show us how you are tackeling this problem. You have complete freedom what you do."
   ]
  },
  {
   "cell_type": "markdown",
   "metadata": {},
   "source": [
    "## Exploration\n",
    "The goal here is to better understand the underlying data e.g. in terms of completeness, distribution etc.."
   ]
  },
  {
   "cell_type": "markdown",
   "metadata": {},
   "source": [
    "## Data Understanding\n",
    "shape\n",
    "\n",
    "Info\n",
    "\n",
    "describe\n",
    "\n",
    "unique\n",
    "\n",
    "## Data Preprocessing & Exploration\n",
    "Identify Duplicates\n",
    "\n",
    "Identify & Treat Missing values\n",
    "\n",
    "Handling Data type\n",
    "\n",
    "Data Exploration using plots\n",
    "\n",
    "Observations\n",
    "\n",
    "Handling Categorical Variables - Label Encoding\n",
    "\n",
    "Outiers detection & Treatment\n",
    "\n",
    "Skewness & Kurtosis\n",
    "\n",
    "## Feature Selection\n",
    "Correlation matrix\n",
    "\n",
    "Tree Based methods\n",
    "\n",
    "VIF\n",
    "\n",
    "## Model\n",
    "Linear Regression\n",
    "\n",
    "Random Forest\n",
    "\n",
    "Model Optimisation\n",
    "\n",
    "Prediction\n",
    "\n",
    "\n",
    "\n",
    "Q & A\n",
    "\n",
    "Architecture\n"
   ]
  },
  {
   "cell_type": "code",
   "execution_count": null,
   "metadata": {},
   "outputs": [],
   "source": []
  },
  {
   "cell_type": "code",
   "execution_count": null,
   "metadata": {},
   "outputs": [],
   "source": []
  },
  {
   "cell_type": "markdown",
   "metadata": {},
   "source": [
    "# Data Understanding"
   ]
  },
  {
   "cell_type": "markdown",
   "metadata": {},
   "source": [
    "Check the shape"
   ]
  },
  {
   "cell_type": "code",
   "execution_count": 6,
   "metadata": {
    "scrolled": true
   },
   "outputs": [
    {
     "name": "stdout",
     "output_type": "stream",
     "text": [
      "The Dataset has 18207 rows and 8 columns\n"
     ]
    }
   ],
   "source": [
    "print(f\"The Dataset has {df.shape[0]} rows and {df.shape[1]} columns\")"
   ]
  },
  {
   "cell_type": "code",
   "execution_count": 7,
   "metadata": {},
   "outputs": [
    {
     "name": "stdout",
     "output_type": "stream",
     "text": [
      "<class 'pandas.core.frame.DataFrame'>\n",
      "RangeIndex: 18207 entries, 0 to 18206\n",
      "Data columns (total 8 columns):\n",
      " #   Column             Non-Null Count  Dtype  \n",
      "---  ------             --------------  -----  \n",
      " 0   brand              18174 non-null  object \n",
      " 1   country            18185 non-null  object \n",
      " 2   currency           18184 non-null  object \n",
      " 3   customers_per_day  18199 non-null  float64\n",
      " 4   outlet_id          18194 non-null  float64\n",
      " 5   week_id            18194 non-null  float64\n",
      " 6   weekday            18170 non-null  object \n",
      " 7   sales_per_day      18193 non-null  float64\n",
      "dtypes: float64(4), object(4)\n",
      "memory usage: 1.1+ MB\n"
     ]
    }
   ],
   "source": [
    "df.info()"
   ]
  },
  {
   "cell_type": "markdown",
   "metadata": {},
   "source": [
    "Data contain 4 float ,4 object values.\n",
    "\n",
    "All variable contains null values (empty or missing value)."
   ]
  },
  {
   "cell_type": "code",
   "execution_count": 9,
   "metadata": {},
   "outputs": [],
   "source": [
    "#Describe the Dataset\n",
    "#Get the total counts, mean, std and other valuable descriptions using describe()"
   ]
  },
  {
   "cell_type": "code",
   "execution_count": 8,
   "metadata": {},
   "outputs": [
    {
     "data": {
      "text/html": [
       "<div>\n",
       "<style scoped>\n",
       "    .dataframe tbody tr th:only-of-type {\n",
       "        vertical-align: middle;\n",
       "    }\n",
       "\n",
       "    .dataframe tbody tr th {\n",
       "        vertical-align: top;\n",
       "    }\n",
       "\n",
       "    .dataframe thead th {\n",
       "        text-align: right;\n",
       "    }\n",
       "</style>\n",
       "<table border=\"1\" class=\"dataframe\">\n",
       "  <thead>\n",
       "    <tr style=\"text-align: right;\">\n",
       "      <th></th>\n",
       "      <th>customers_per_day</th>\n",
       "      <th>outlet_id</th>\n",
       "      <th>week_id</th>\n",
       "      <th>sales_per_day</th>\n",
       "    </tr>\n",
       "  </thead>\n",
       "  <tbody>\n",
       "    <tr>\n",
       "      <th>count</th>\n",
       "      <td>18199.000000</td>\n",
       "      <td>18194.000000</td>\n",
       "      <td>18194.000000</td>\n",
       "      <td>18193.000000</td>\n",
       "    </tr>\n",
       "    <tr>\n",
       "      <th>mean</th>\n",
       "      <td>259.351503</td>\n",
       "      <td>-301.265747</td>\n",
       "      <td>-852.575684</td>\n",
       "      <td>50823.378059</td>\n",
       "    </tr>\n",
       "    <tr>\n",
       "      <th>std</th>\n",
       "      <td>26758.789881</td>\n",
       "      <td>24590.138649</td>\n",
       "      <td>29643.403749</td>\n",
       "      <td>31283.133925</td>\n",
       "    </tr>\n",
       "    <tr>\n",
       "      <th>min</th>\n",
       "      <td>-999999.000000</td>\n",
       "      <td>-999999.000000</td>\n",
       "      <td>-999999.000000</td>\n",
       "      <td>-999999.000000</td>\n",
       "    </tr>\n",
       "    <tr>\n",
       "      <th>25%</th>\n",
       "      <td>327.000000</td>\n",
       "      <td>97.000000</td>\n",
       "      <td>14.000000</td>\n",
       "      <td>51260.450000</td>\n",
       "    </tr>\n",
       "    <tr>\n",
       "      <th>50%</th>\n",
       "      <td>550.000000</td>\n",
       "      <td>255.000000</td>\n",
       "      <td>27.000000</td>\n",
       "      <td>57319.920000</td>\n",
       "    </tr>\n",
       "    <tr>\n",
       "      <th>75%</th>\n",
       "      <td>1605.000000</td>\n",
       "      <td>530.000000</td>\n",
       "      <td>40.000000</td>\n",
       "      <td>63163.580000</td>\n",
       "    </tr>\n",
       "    <tr>\n",
       "      <th>max</th>\n",
       "      <td>4734.000000</td>\n",
       "      <td>698.000000</td>\n",
       "      <td>52.000000</td>\n",
       "      <td>96225.530000</td>\n",
       "    </tr>\n",
       "  </tbody>\n",
       "</table>\n",
       "</div>"
      ],
      "text/plain": [
       "       customers_per_day      outlet_id        week_id  sales_per_day\n",
       "count       18199.000000   18194.000000   18194.000000   18193.000000\n",
       "mean          259.351503    -301.265747    -852.575684   50823.378059\n",
       "std         26758.789881   24590.138649   29643.403749   31283.133925\n",
       "min       -999999.000000 -999999.000000 -999999.000000 -999999.000000\n",
       "25%           327.000000      97.000000      14.000000   51260.450000\n",
       "50%           550.000000     255.000000      27.000000   57319.920000\n",
       "75%          1605.000000     530.000000      40.000000   63163.580000\n",
       "max          4734.000000     698.000000      52.000000   96225.530000"
      ]
     },
     "execution_count": 8,
     "metadata": {},
     "output_type": "execute_result"
    }
   ],
   "source": [
    "df.describe()"
   ]
  },
  {
   "cell_type": "code",
   "execution_count": 10,
   "metadata": {},
   "outputs": [
    {
     "data": {
      "text/plain": [
       "brand                    2\n",
       "country                  7\n",
       "currency                 2\n",
       "customers_per_day     2978\n",
       "outlet_id               51\n",
       "week_id                 53\n",
       "weekday                  7\n",
       "sales_per_day        15544\n",
       "dtype: int64"
      ]
     },
     "execution_count": 10,
     "metadata": {},
     "output_type": "execute_result"
    }
   ],
   "source": [
    "#check the each variable uniqueness\n",
    "\n",
    "df.nunique()"
   ]
  },
  {
   "cell_type": "markdown",
   "metadata": {},
   "source": [
    "import and analyse dataset with automatic EDA library - sweetviz"
   ]
  },
  {
   "cell_type": "code",
   "execution_count": 57,
   "metadata": {},
   "outputs": [],
   "source": [
    "import sweetviz as sv"
   ]
  },
  {
   "cell_type": "code",
   "execution_count": 44,
   "metadata": {},
   "outputs": [
    {
     "data": {
      "application/vnd.jupyter.widget-view+json": {
       "model_id": "aca462595755498588dfa2837be1a138",
       "version_major": 2,
       "version_minor": 0
      },
      "text/plain": [
       "HBox(children=(HTML(value=''), FloatProgress(value=0.0, layout=Layout(flex='2'), max=9.0), HTML(value='')), la…"
      ]
     },
     "metadata": {},
     "output_type": "display_data"
    },
    {
     "name": "stdout",
     "output_type": "stream",
     "text": [
      "\n",
      "Report Sales.html was generated! NOTEBOOK/COLAB USERS: the web browser MAY not pop up, regardless, the report IS saved in your notebook/colab files.\n"
     ]
    }
   ],
   "source": [
    "#analyzing the dataset\n",
    "sales_report = sv.analyze(df)\n",
    "#display the report\n",
    "sales_report.show_html('Sales.html')"
   ]
  },
  {
   "cell_type": "code",
   "execution_count": null,
   "metadata": {},
   "outputs": [],
   "source": []
  },
  {
   "cell_type": "markdown",
   "metadata": {},
   "source": [
    "# Data Preprocessing"
   ]
  },
  {
   "cell_type": "code",
   "execution_count": 96,
   "metadata": {},
   "outputs": [
    {
     "data": {
      "text/plain": [
       "0"
      ]
     },
     "execution_count": 96,
     "metadata": {},
     "output_type": "execute_result"
    }
   ],
   "source": [
    "df.duplicated().sum() #finds duplicate rows"
   ]
  },
  {
   "cell_type": "code",
   "execution_count": null,
   "metadata": {},
   "outputs": [],
   "source": [
    "#Handling -999999.0 value in columns"
   ]
  },
  {
   "cell_type": "code",
   "execution_count": 11,
   "metadata": {},
   "outputs": [],
   "source": [
    "df['customers_per_day'] = df['customers_per_day'].replace([-999999.0],0)\n",
    "df['outlet_id'] = df['outlet_id'].replace([-999999.0],0)\n",
    "df['week_id'] = df['week_id'].replace([-999999.0],0)\n",
    "df['sales_per_day'] = df['sales_per_day'].replace([-999999.0],0)"
   ]
  },
  {
   "cell_type": "markdown",
   "metadata": {},
   "source": [
    "Check the Rows with Null Values\n",
    "\n",
    "First process: total number of null values in all valriables\n",
    "\n",
    "Second process: plotting bar chart\n",
    "\n",
    "Third process : finding %ge of null values in each variable"
   ]
  },
  {
   "cell_type": "code",
   "execution_count": 17,
   "metadata": {},
   "outputs": [
    {
     "data": {
      "text/plain": [
       "brand                33\n",
       "country              22\n",
       "currency             23\n",
       "customers_per_day     8\n",
       "outlet_id            13\n",
       "week_id              13\n",
       "weekday              37\n",
       "sales_per_day        14\n",
       "dtype: int64"
      ]
     },
     "execution_count": 17,
     "metadata": {},
     "output_type": "execute_result"
    }
   ],
   "source": [
    "missing = df.isnull().sum()\n",
    "missing"
   ]
  },
  {
   "cell_type": "code",
   "execution_count": 18,
   "metadata": {},
   "outputs": [
    {
     "data": {
      "text/plain": [
       "<AxesSubplot:>"
      ]
     },
     "execution_count": 18,
     "metadata": {},
     "output_type": "execute_result"
    },
    {
     "data": {
      "image/png": "[encoded data removed]",
      "text/plain": [
       "<Figure size 432x288 with 1 Axes>"
      ]
     },
     "metadata": {
      "needs_background": "light"
     },
     "output_type": "display_data"
    }
   ],
   "source": [
    "missing = missing[missing > 0]\n",
    "missing.sort_values(inplace=True)\n",
    "missing.plot.bar()"
   ]
  },
  {
   "cell_type": "code",
   "execution_count": 19,
   "metadata": {},
   "outputs": [
    {
     "data": {
      "text/plain": [
       "brand                0.181249\n",
       "country              0.120833\n",
       "currency             0.126325\n",
       "customers_per_day    0.043939\n",
       "outlet_id            0.071401\n",
       "week_id              0.071401\n",
       "weekday              0.203219\n",
       "sales_per_day        0.076894\n",
       "dtype: float64"
      ]
     },
     "execution_count": 19,
     "metadata": {},
     "output_type": "execute_result"
    }
   ],
   "source": [
    "# percentage of missing value\n",
    "\n",
    "df.isnull().sum() / df.shape[0] * 100"
   ]
  },
  {
   "cell_type": "code",
   "execution_count": null,
   "metadata": {},
   "outputs": [],
   "source": [
    "Observations:\n",
    "\n",
    "Missing values are present in all columns\n",
    "\n",
    "Missing values are not more than 0.20%\n",
    "\n",
    "Maximum number of missing values are in weekday & brand column 0.2% and 0.18% resp.\n"
   ]
  },
  {
   "cell_type": "markdown",
   "metadata": {},
   "source": [
    "# Missing Value Treatment"
   ]
  },
  {
   "cell_type": "markdown",
   "metadata": {},
   "source": [
    "As this is physical store so checking if is there any customer visit or sales happen on Sunday"
   ]
  },
  {
   "cell_type": "code",
   "execution_count": 8,
   "metadata": {},
   "outputs": [
    {
     "data": {
      "image/png": "[encoded data removed]",
      "text/plain": [
       "<Figure size 432x288 with 1 Axes>"
      ]
     },
     "metadata": {
      "needs_background": "light"
     },
     "output_type": "display_data"
    }
   ],
   "source": [
    "sns.barplot(x = 'weekday',y = 'sales_per_day',data = df)\n",
    "plt.show()"
   ]
  },
  {
   "cell_type": "code",
   "execution_count": 9,
   "metadata": {},
   "outputs": [
    {
     "data": {
      "image/png": "[encoded data removed]",
      "text/plain": [
       "<Figure size 432x288 with 1 Axes>"
      ]
     },
     "metadata": {
      "needs_background": "light"
     },
     "output_type": "display_data"
    }
   ],
   "source": [
    "sns.barplot(x = 'weekday',y = 'customers_per_day',data = df)\n",
    "plt.show()"
   ]
  },
  {
   "cell_type": "code",
   "execution_count": 166,
   "metadata": {},
   "outputs": [],
   "source": [
    "#Dropping all rows where Weekday is sunday"
   ]
  },
  {
   "cell_type": "code",
   "execution_count": 20,
   "metadata": {},
   "outputs": [],
   "source": [
    "df = df[df.weekday != \"sun\"].copy()"
   ]
  },
  {
   "cell_type": "code",
   "execution_count": 21,
   "metadata": {},
   "outputs": [
    {
     "data": {
      "image/png": "[encoded data removed]",
      "text/plain": [
       "<Figure size 432x288 with 1 Axes>"
      ]
     },
     "metadata": {
      "needs_background": "light"
     },
     "output_type": "display_data"
    }
   ],
   "source": [
    "sns.barplot(x = 'weekday',y = 'sales_per_day',data = df)\n",
    "plt.show()"
   ]
  },
  {
   "cell_type": "code",
   "execution_count": 22,
   "metadata": {},
   "outputs": [
    {
     "data": {
      "text/plain": [
       "0.0"
      ]
     },
     "execution_count": 22,
     "metadata": {},
     "output_type": "execute_result"
    }
   ],
   "source": [
    "df['customers_per_day'].min()"
   ]
  },
  {
   "cell_type": "code",
   "execution_count": null,
   "metadata": {},
   "outputs": [],
   "source": [
    "checking if the customer visit per day and sales per day are both 0 on same day or not"
   ]
  },
  {
   "cell_type": "code",
   "execution_count": 24,
   "metadata": {},
   "outputs": [
    {
     "data": {
      "text/html": [
       "<div>\n",
       "<style scoped>\n",
       "    .dataframe tbody tr th:only-of-type {\n",
       "        vertical-align: middle;\n",
       "    }\n",
       "\n",
       "    .dataframe tbody tr th {\n",
       "        vertical-align: top;\n",
       "    }\n",
       "\n",
       "    .dataframe thead th {\n",
       "        text-align: right;\n",
       "    }\n",
       "</style>\n",
       "<table border=\"1\" class=\"dataframe\">\n",
       "  <thead>\n",
       "    <tr style=\"text-align: right;\">\n",
       "      <th></th>\n",
       "      <th>brand</th>\n",
       "      <th>country</th>\n",
       "      <th>currency</th>\n",
       "      <th>customers_per_day</th>\n",
       "      <th>outlet_id</th>\n",
       "      <th>week_id</th>\n",
       "      <th>weekday</th>\n",
       "      <th>sales_per_day</th>\n",
       "    </tr>\n",
       "  </thead>\n",
       "  <tbody>\n",
       "    <tr>\n",
       "      <th>222</th>\n",
       "      <td>MediaMarkt</td>\n",
       "      <td>austria</td>\n",
       "      <td>EURO</td>\n",
       "      <td>0.0</td>\n",
       "      <td>342.0</td>\n",
       "      <td>19.0</td>\n",
       "      <td>sat</td>\n",
       "      <td>66916.21</td>\n",
       "    </tr>\n",
       "    <tr>\n",
       "      <th>1241</th>\n",
       "      <td>MediaMarkt</td>\n",
       "      <td>germany</td>\n",
       "      <td>EURO</td>\n",
       "      <td>0.0</td>\n",
       "      <td>52.0</td>\n",
       "      <td>26.0</td>\n",
       "      <td>NaN</td>\n",
       "      <td>0.00</td>\n",
       "    </tr>\n",
       "    <tr>\n",
       "      <th>1388</th>\n",
       "      <td>MediaMarkt</td>\n",
       "      <td>austria</td>\n",
       "      <td>EURO</td>\n",
       "      <td>0.0</td>\n",
       "      <td>363.0</td>\n",
       "      <td>20.0</td>\n",
       "      <td>NaN</td>\n",
       "      <td>0.00</td>\n",
       "    </tr>\n",
       "    <tr>\n",
       "      <th>2578</th>\n",
       "      <td>MediaMarkt</td>\n",
       "      <td>italy</td>\n",
       "      <td>EURO</td>\n",
       "      <td>0.0</td>\n",
       "      <td>598.0</td>\n",
       "      <td>19.0</td>\n",
       "      <td>wed</td>\n",
       "      <td>64171.50</td>\n",
       "    </tr>\n",
       "    <tr>\n",
       "      <th>2729</th>\n",
       "      <td>MediaMarkt</td>\n",
       "      <td>austria</td>\n",
       "      <td>EURO</td>\n",
       "      <td>0.0</td>\n",
       "      <td>339.0</td>\n",
       "      <td>9.0</td>\n",
       "      <td>NaN</td>\n",
       "      <td>0.00</td>\n",
       "    </tr>\n",
       "    <tr>\n",
       "      <th>2952</th>\n",
       "      <td>MediaMarkt</td>\n",
       "      <td>switzerland</td>\n",
       "      <td>CHF</td>\n",
       "      <td>0.0</td>\n",
       "      <td>408.0</td>\n",
       "      <td>17.0</td>\n",
       "      <td>mon</td>\n",
       "      <td>48937.41</td>\n",
       "    </tr>\n",
       "    <tr>\n",
       "      <th>3168</th>\n",
       "      <td>MediaMarkt</td>\n",
       "      <td>netherlands</td>\n",
       "      <td>EURO</td>\n",
       "      <td>0.0</td>\n",
       "      <td>652.0</td>\n",
       "      <td>11.0</td>\n",
       "      <td>mon</td>\n",
       "      <td>50925.90</td>\n",
       "    </tr>\n",
       "    <tr>\n",
       "      <th>5457</th>\n",
       "      <td>MediaMarkt</td>\n",
       "      <td>italy</td>\n",
       "      <td>EURO</td>\n",
       "      <td>0.0</td>\n",
       "      <td>509.0</td>\n",
       "      <td>4.0</td>\n",
       "      <td>mon</td>\n",
       "      <td>58329.07</td>\n",
       "    </tr>\n",
       "    <tr>\n",
       "      <th>6260</th>\n",
       "      <td>Saturn</td>\n",
       "      <td>spain</td>\n",
       "      <td>EURO</td>\n",
       "      <td>0.0</td>\n",
       "      <td>108.0</td>\n",
       "      <td>18.0</td>\n",
       "      <td>wed</td>\n",
       "      <td>67809.39</td>\n",
       "    </tr>\n",
       "    <tr>\n",
       "      <th>6638</th>\n",
       "      <td>MediaMarkt</td>\n",
       "      <td>italy</td>\n",
       "      <td>EURO</td>\n",
       "      <td>0.0</td>\n",
       "      <td>509.0</td>\n",
       "      <td>47.0</td>\n",
       "      <td>thu</td>\n",
       "      <td>59056.14</td>\n",
       "    </tr>\n",
       "    <tr>\n",
       "      <th>6923</th>\n",
       "      <td>Saturn</td>\n",
       "      <td>netherlands</td>\n",
       "      <td>EURO</td>\n",
       "      <td>0.0</td>\n",
       "      <td>601.0</td>\n",
       "      <td>20.0</td>\n",
       "      <td>tue</td>\n",
       "      <td>53518.11</td>\n",
       "    </tr>\n",
       "    <tr>\n",
       "      <th>8173</th>\n",
       "      <td>Saturn</td>\n",
       "      <td>spain</td>\n",
       "      <td>EURO</td>\n",
       "      <td>0.0</td>\n",
       "      <td>187.0</td>\n",
       "      <td>4.0</td>\n",
       "      <td>NaN</td>\n",
       "      <td>0.00</td>\n",
       "    </tr>\n",
       "    <tr>\n",
       "      <th>12848</th>\n",
       "      <td>MediaMarkt</td>\n",
       "      <td>austria</td>\n",
       "      <td>EURO</td>\n",
       "      <td>0.0</td>\n",
       "      <td>339.0</td>\n",
       "      <td>37.0</td>\n",
       "      <td>fri</td>\n",
       "      <td>65051.98</td>\n",
       "    </tr>\n",
       "    <tr>\n",
       "      <th>13224</th>\n",
       "      <td>MediaMarkt</td>\n",
       "      <td>spain</td>\n",
       "      <td>EURO</td>\n",
       "      <td>0.0</td>\n",
       "      <td>106.0</td>\n",
       "      <td>47.0</td>\n",
       "      <td>thu</td>\n",
       "      <td>55690.13</td>\n",
       "    </tr>\n",
       "    <tr>\n",
       "      <th>13540</th>\n",
       "      <td>MediaMarkt</td>\n",
       "      <td>germany</td>\n",
       "      <td>EURO</td>\n",
       "      <td>0.0</td>\n",
       "      <td>56.0</td>\n",
       "      <td>12.0</td>\n",
       "      <td>NaN</td>\n",
       "      <td>0.00</td>\n",
       "    </tr>\n",
       "    <tr>\n",
       "      <th>14223</th>\n",
       "      <td>MediaMarkt</td>\n",
       "      <td>germany</td>\n",
       "      <td>EURO</td>\n",
       "      <td>0.0</td>\n",
       "      <td>56.0</td>\n",
       "      <td>24.0</td>\n",
       "      <td>wed</td>\n",
       "      <td>65851.95</td>\n",
       "    </tr>\n",
       "    <tr>\n",
       "      <th>14617</th>\n",
       "      <td>MediaMarkt</td>\n",
       "      <td>netherlands</td>\n",
       "      <td>EURO</td>\n",
       "      <td>0.0</td>\n",
       "      <td>645.0</td>\n",
       "      <td>5.0</td>\n",
       "      <td>NaN</td>\n",
       "      <td>0.00</td>\n",
       "    </tr>\n",
       "    <tr>\n",
       "      <th>15026</th>\n",
       "      <td>MediaMarkt</td>\n",
       "      <td>switzerland</td>\n",
       "      <td>CHF</td>\n",
       "      <td>0.0</td>\n",
       "      <td>421.0</td>\n",
       "      <td>49.0</td>\n",
       "      <td>NaN</td>\n",
       "      <td>0.00</td>\n",
       "    </tr>\n",
       "  </tbody>\n",
       "</table>\n",
       "</div>"
      ],
      "text/plain": [
       "            brand      country currency  customers_per_day  outlet_id  \\\n",
       "222    MediaMarkt      austria     EURO                0.0      342.0   \n",
       "1241   MediaMarkt      germany     EURO                0.0       52.0   \n",
       "1388   MediaMarkt      austria     EURO                0.0      363.0   \n",
       "2578   MediaMarkt        italy     EURO                0.0      598.0   \n",
       "2729   MediaMarkt      austria     EURO                0.0      339.0   \n",
       "2952   MediaMarkt  switzerland      CHF                0.0      408.0   \n",
       "3168   MediaMarkt  netherlands     EURO                0.0      652.0   \n",
       "5457   MediaMarkt        italy     EURO                0.0      509.0   \n",
       "6260       Saturn        spain     EURO                0.0      108.0   \n",
       "6638   MediaMarkt        italy     EURO                0.0      509.0   \n",
       "6923       Saturn  netherlands     EURO                0.0      601.0   \n",
       "8173       Saturn        spain     EURO                0.0      187.0   \n",
       "12848  MediaMarkt      austria     EURO                0.0      339.0   \n",
       "13224  MediaMarkt        spain     EURO                0.0      106.0   \n",
       "13540  MediaMarkt      germany     EURO                0.0       56.0   \n",
       "14223  MediaMarkt      germany     EURO                0.0       56.0   \n",
       "14617  MediaMarkt  netherlands     EURO                0.0      645.0   \n",
       "15026  MediaMarkt  switzerland      CHF                0.0      421.0   \n",
       "\n",
       "       week_id weekday  sales_per_day  \n",
       "222       19.0     sat       66916.21  \n",
       "1241      26.0     NaN           0.00  \n",
       "1388      20.0     NaN           0.00  \n",
       "2578      19.0     wed       64171.50  \n",
       "2729       9.0     NaN           0.00  \n",
       "2952      17.0     mon       48937.41  \n",
       "3168      11.0     mon       50925.90  \n",
       "5457       4.0     mon       58329.07  \n",
       "6260      18.0     wed       67809.39  \n",
       "6638      47.0     thu       59056.14  \n",
       "6923      20.0     tue       53518.11  \n",
       "8173       4.0     NaN           0.00  \n",
       "12848     37.0     fri       65051.98  \n",
       "13224     47.0     thu       55690.13  \n",
       "13540     12.0     NaN           0.00  \n",
       "14223     24.0     wed       65851.95  \n",
       "14617      5.0     NaN           0.00  \n",
       "15026     49.0     NaN           0.00  "
      ]
     },
     "execution_count": 24,
     "metadata": {},
     "output_type": "execute_result"
    }
   ],
   "source": [
    "df[df.customers_per_day == 0.0]"
   ]
  },
  {
   "cell_type": "code",
   "execution_count": 27,
   "metadata": {},
   "outputs": [
    {
     "data": {
      "text/plain": [
       "(15613, 8)"
      ]
     },
     "execution_count": 27,
     "metadata": {},
     "output_type": "execute_result"
    }
   ],
   "source": [
    "df.shape"
   ]
  },
  {
   "cell_type": "code",
   "execution_count": 28,
   "metadata": {},
   "outputs": [],
   "source": [
    "#Missing value imputation using mean for continuous and interger variables\n",
    "df['customers_per_day'] = df['customers_per_day'].fillna(df['customers_per_day'].mean())"
   ]
  },
  {
   "cell_type": "code",
   "execution_count": 30,
   "metadata": {},
   "outputs": [],
   "source": [
    "#Replacing discrete and categorical variables using mode\n",
    "\n",
    "mode0 = df['country'].mode().values[0]\n",
    "df['country'] = df['country'].replace(np.nan, mode0)\n",
    "\n",
    "mode1 = df['outlet_id'].mode().values[0]\n",
    "df['outlet_id'] = df['outlet_id'].replace(np.nan, mode1)\n",
    "\n",
    "mode2 = df['week_id'].mode().values[0]\n",
    "df['week_id'] = df['week_id'].replace(np.nan, mode2)\n",
    "\n",
    "mode3 = df['currency'].mode().values[0]\n",
    "df['currency'] = df['currency'].replace(np.nan, mode3)\n",
    "\n",
    "mode4= df['brand'].mode().values[0]\n",
    "df['brand'] = df['brand'].replace(np.nan, mode4)\n",
    "\n",
    "mode5 = df['weekday'].mode().values[0]\n",
    "df['weekday'] = df['weekday'].replace(np.nan, mode5)"
   ]
  },
  {
   "cell_type": "markdown",
   "metadata": {},
   "source": [
    "Handling the missing values in the sales_per_day column. \n",
    "Since, our target column is sales_per_day Column, if we impute the values to this column it’ll affect our analysis.\n",
    "So, it is better to drop the missing values from sales_per_day Column"
   ]
  },
  {
   "cell_type": "code",
   "execution_count": 31,
   "metadata": {},
   "outputs": [],
   "source": [
    "#drop the records with sales_per_day missing in data.\n",
    "df = df[~df.sales_per_day.isnull()].copy()"
   ]
  },
  {
   "cell_type": "code",
   "execution_count": 32,
   "metadata": {},
   "outputs": [
    {
     "data": {
      "text/plain": [
       "brand                0\n",
       "country              0\n",
       "currency             0\n",
       "customers_per_day    0\n",
       "outlet_id            0\n",
       "week_id              0\n",
       "weekday              0\n",
       "sales_per_day        0\n",
       "dtype: int64"
      ]
     },
     "execution_count": 32,
     "metadata": {},
     "output_type": "execute_result"
    }
   ],
   "source": [
    "# Calculate the missing values in each column of data frame\n",
    "df.isnull().sum()"
   ]
  },
  {
   "cell_type": "markdown",
   "metadata": {},
   "source": [
    "# Handling Data Type"
   ]
  },
  {
   "cell_type": "code",
   "execution_count": 39,
   "metadata": {},
   "outputs": [
    {
     "data": {
      "text/plain": [
       "brand                 object\n",
       "country               object\n",
       "currency              object\n",
       "customers_per_day      int32\n",
       "outlet_id             object\n",
       "week_id               object\n",
       "weekday               object\n",
       "sales_per_day        float64\n",
       "dtype: object"
      ]
     },
     "execution_count": 39,
     "metadata": {},
     "output_type": "execute_result"
    }
   ],
   "source": [
    "#Incorrect Data Type conversion\n",
    "df= df.astype({\"customers_per_day\":'int',\"outlet_id\":'object',\"week_id\":'object'})\n",
    "#displaying the data\n",
    "df.dtypes"
   ]
  },
  {
   "cell_type": "markdown",
   "metadata": {},
   "source": [
    "Converted variables customer_per_day from float to integer\n",
    "And week_id and outlet_id are categorical variable so converted into object"
   ]
  },
  {
   "cell_type": "code",
   "execution_count": 41,
   "metadata": {},
   "outputs": [
    {
     "data": {
      "text/html": [
       "<div>\n",
       "<style scoped>\n",
       "    .dataframe tbody tr th:only-of-type {\n",
       "        vertical-align: middle;\n",
       "    }\n",
       "\n",
       "    .dataframe tbody tr th {\n",
       "        vertical-align: top;\n",
       "    }\n",
       "\n",
       "    .dataframe thead th {\n",
       "        text-align: right;\n",
       "    }\n",
       "</style>\n",
       "<table border=\"1\" class=\"dataframe\">\n",
       "  <thead>\n",
       "    <tr style=\"text-align: right;\">\n",
       "      <th></th>\n",
       "      <th>customers_per_day</th>\n",
       "      <th>sales_per_day</th>\n",
       "    </tr>\n",
       "  </thead>\n",
       "  <tbody>\n",
       "    <tr>\n",
       "      <th>count</th>\n",
       "      <td>15603.000000</td>\n",
       "      <td>15603.000000</td>\n",
       "    </tr>\n",
       "    <tr>\n",
       "      <th>mean</th>\n",
       "      <td>1135.276165</td>\n",
       "      <td>59772.461003</td>\n",
       "    </tr>\n",
       "    <tr>\n",
       "      <th>std</th>\n",
       "      <td>858.104962</td>\n",
       "      <td>8205.815380</td>\n",
       "    </tr>\n",
       "    <tr>\n",
       "      <th>min</th>\n",
       "      <td>0.000000</td>\n",
       "      <td>0.000000</td>\n",
       "    </tr>\n",
       "    <tr>\n",
       "      <th>25%</th>\n",
       "      <td>400.000000</td>\n",
       "      <td>54175.265000</td>\n",
       "    </tr>\n",
       "    <tr>\n",
       "      <th>50%</th>\n",
       "      <td>819.000000</td>\n",
       "      <td>58753.030000</td>\n",
       "    </tr>\n",
       "    <tr>\n",
       "      <th>75%</th>\n",
       "      <td>1753.000000</td>\n",
       "      <td>64383.720000</td>\n",
       "    </tr>\n",
       "    <tr>\n",
       "      <th>max</th>\n",
       "      <td>4734.000000</td>\n",
       "      <td>96225.530000</td>\n",
       "    </tr>\n",
       "  </tbody>\n",
       "</table>\n",
       "</div>"
      ],
      "text/plain": [
       "       customers_per_day  sales_per_day\n",
       "count       15603.000000   15603.000000\n",
       "mean         1135.276165   59772.461003\n",
       "std           858.104962    8205.815380\n",
       "min             0.000000       0.000000\n",
       "25%           400.000000   54175.265000\n",
       "50%           819.000000   58753.030000\n",
       "75%          1753.000000   64383.720000\n",
       "max          4734.000000   96225.530000"
      ]
     },
     "execution_count": 41,
     "metadata": {},
     "output_type": "execute_result"
    }
   ],
   "source": [
    "df.describe()"
   ]
  },
  {
   "cell_type": "markdown",
   "metadata": {},
   "source": [
    "## Data Exploration using Plots with Observations"
   ]
  },
  {
   "cell_type": "code",
   "execution_count": 42,
   "metadata": {},
   "outputs": [
    {
     "data": {
      "image/png": "[encoded data removed]",
      "text/plain": [
       "<Figure size 1440x1080 with 2 Axes>"
      ]
     },
     "metadata": {
      "needs_background": "light"
     },
     "output_type": "display_data"
    }
   ],
   "source": [
    "#plotting all variables\n",
    "df.hist(figsize = (20,15))\n",
    "plt.show()"
   ]
  },
  {
   "cell_type": "markdown",
   "metadata": {},
   "source": [
    "Observations:\n",
    "\n",
    "Average maximum customers per day are in the range of 0 to 500. Data is skewed towards left.\n",
    "Average maximum sales per day is within the range of 4500 to 6500, Data is normally distributed\n"
   ]
  },
  {
   "cell_type": "code",
   "execution_count": 43,
   "metadata": {},
   "outputs": [
    {
     "data": {
      "text/plain": [
       "<AxesSubplot:xlabel='currency', ylabel='sales_per_day'>"
      ]
     },
     "execution_count": 43,
     "metadata": {},
     "output_type": "execute_result"
    },
    {
     "data": {
      "image/png": "[encoded data removed]",
      "text/plain": [
       "<Figure size 432x288 with 1 Axes>"
      ]
     },
     "metadata": {
      "needs_background": "light"
     },
     "output_type": "display_data"
    }
   ],
   "source": [
    "sns.barplot(x=\"currency\",y=\"sales_per_day\",data=df)"
   ]
  },
  {
   "cell_type": "code",
   "execution_count": 44,
   "metadata": {},
   "outputs": [
    {
     "data": {
      "image/png": "[encoded data removed]",
      "text/plain": [
       "<Figure size 1008x360 with 1 Axes>"
      ]
     },
     "metadata": {
      "needs_background": "light"
     },
     "output_type": "display_data"
    }
   ],
   "source": [
    "fig, ax = plt.subplots(figsize=(14,5))\n",
    "palette = sns.color_palette(\"mako_r\", 4)\n",
    "a = sns.barplot(x=\"country\", y=\"sales_per_day\",hue = 'weekday',data=df)\n",
    "a.set_title(\"Store Sales Data\",fontsize=15)\n",
    "plt.legend(loc='upper right')\n",
    "plt.show()"
   ]
  },
  {
   "cell_type": "code",
   "execution_count": null,
   "metadata": {},
   "outputs": [],
   "source": [
    "Observations:\n",
    "1) Sales throughout the countries are uniform\n",
    "\n",
    "2)Maximum sales happend on Saturday\n",
    "\n",
    "3) Min sales happened on Tuesdays\n",
    "\n",
    "Solution:\n",
    "    \n",
    "Throughout all the outlets, on Tuesdays stores can provide some attractive offers to customers"
   ]
  },
  {
   "cell_type": "code",
   "execution_count": 22,
   "metadata": {},
   "outputs": [
    {
     "data": {
      "text/plain": [
       "Index(['brand', 'country', 'currency', 'customers_per_day', 'outlet_id',\n",
       "       'week_id', 'weekday', 'sales_per_day'],\n",
       "      dtype='object')"
      ]
     },
     "execution_count": 22,
     "metadata": {},
     "output_type": "execute_result"
    }
   ],
   "source": [
    "df.columns"
   ]
  },
  {
   "cell_type": "code",
   "execution_count": 45,
   "metadata": {},
   "outputs": [
    {
     "data": {
      "text/plain": [
       "<AxesSubplot:xlabel='country', ylabel='sales_per_day'>"
      ]
     },
     "execution_count": 45,
     "metadata": {},
     "output_type": "execute_result"
    },
    {
     "data": {
      "image/png": "[encoded data removed]",
      "text/plain": [
       "<Figure size 864x432 with 1 Axes>"
      ]
     },
     "metadata": {
      "needs_background": "light"
     },
     "output_type": "display_data"
    }
   ],
   "source": [
    "#plt.rcParams['figure.figsize'] = (12, 6)\n",
    "#sns.barplot(x=\"country\",y=\"sales_per_day\",data=df)"
   ]
  },
  {
   "cell_type": "markdown",
   "metadata": {},
   "source": [
    "What Country had the highest number of sales?"
   ]
  },
  {
   "cell_type": "code",
   "execution_count": 46,
   "metadata": {},
   "outputs": [
    {
     "data": {
      "text/html": [
       "<div>\n",
       "<style scoped>\n",
       "    .dataframe tbody tr th:only-of-type {\n",
       "        vertical-align: middle;\n",
       "    }\n",
       "\n",
       "    .dataframe tbody tr th {\n",
       "        vertical-align: top;\n",
       "    }\n",
       "\n",
       "    .dataframe thead th {\n",
       "        text-align: right;\n",
       "    }\n",
       "</style>\n",
       "<table border=\"1\" class=\"dataframe\">\n",
       "  <thead>\n",
       "    <tr style=\"text-align: right;\">\n",
       "      <th></th>\n",
       "      <th>customers_per_day</th>\n",
       "      <th>sales_per_day</th>\n",
       "    </tr>\n",
       "    <tr>\n",
       "      <th>country</th>\n",
       "      <th></th>\n",
       "      <th></th>\n",
       "    </tr>\n",
       "  </thead>\n",
       "  <tbody>\n",
       "    <tr>\n",
       "      <th>austria</th>\n",
       "      <td>2445485</td>\n",
       "      <td>1.295447e+08</td>\n",
       "    </tr>\n",
       "    <tr>\n",
       "      <th>germany</th>\n",
       "      <td>4900463</td>\n",
       "      <td>2.562041e+08</td>\n",
       "    </tr>\n",
       "    <tr>\n",
       "      <th>greece</th>\n",
       "      <td>2083216</td>\n",
       "      <td>1.101990e+08</td>\n",
       "    </tr>\n",
       "    <tr>\n",
       "      <th>italy</th>\n",
       "      <td>2757708</td>\n",
       "      <td>1.455911e+08</td>\n",
       "    </tr>\n",
       "    <tr>\n",
       "      <th>netherlands</th>\n",
       "      <td>2067454</td>\n",
       "      <td>1.088689e+08</td>\n",
       "    </tr>\n",
       "    <tr>\n",
       "      <th>spain</th>\n",
       "      <td>2420461</td>\n",
       "      <td>1.261726e+08</td>\n",
       "    </tr>\n",
       "    <tr>\n",
       "      <th>switzerland</th>\n",
       "      <td>1038927</td>\n",
       "      <td>5.604940e+07</td>\n",
       "    </tr>\n",
       "  </tbody>\n",
       "</table>\n",
       "</div>"
      ],
      "text/plain": [
       "             customers_per_day  sales_per_day\n",
       "country                                      \n",
       "austria                2445485   1.295447e+08\n",
       "germany                4900463   2.562041e+08\n",
       "greece                 2083216   1.101990e+08\n",
       "italy                  2757708   1.455911e+08\n",
       "netherlands            2067454   1.088689e+08\n",
       "spain                  2420461   1.261726e+08\n",
       "switzerland            1038927   5.604940e+07"
      ]
     },
     "execution_count": 46,
     "metadata": {},
     "output_type": "execute_result"
    }
   ],
   "source": [
    "country_df = df.groupby('country').sum()\n",
    "country_df"
   ]
  },
  {
   "cell_type": "code",
   "execution_count": 52,
   "metadata": {},
   "outputs": [
    {
     "data": {
      "text/html": [
       "<div>\n",
       "<style scoped>\n",
       "    .dataframe tbody tr th:only-of-type {\n",
       "        vertical-align: middle;\n",
       "    }\n",
       "\n",
       "    .dataframe tbody tr th {\n",
       "        vertical-align: top;\n",
       "    }\n",
       "\n",
       "    .dataframe thead th {\n",
       "        text-align: right;\n",
       "    }\n",
       "</style>\n",
       "<table border=\"1\" class=\"dataframe\">\n",
       "  <thead>\n",
       "    <tr style=\"text-align: right;\">\n",
       "      <th></th>\n",
       "      <th>customers_per_day</th>\n",
       "      <th>sales_per_day</th>\n",
       "    </tr>\n",
       "    <tr>\n",
       "      <th>country</th>\n",
       "      <th></th>\n",
       "      <th></th>\n",
       "    </tr>\n",
       "  </thead>\n",
       "  <tbody>\n",
       "    <tr>\n",
       "      <th>germany</th>\n",
       "      <td>4900463</td>\n",
       "      <td>2.562041e+08</td>\n",
       "    </tr>\n",
       "    <tr>\n",
       "      <th>italy</th>\n",
       "      <td>2757708</td>\n",
       "      <td>1.455911e+08</td>\n",
       "    </tr>\n",
       "    <tr>\n",
       "      <th>austria</th>\n",
       "      <td>2445485</td>\n",
       "      <td>1.295447e+08</td>\n",
       "    </tr>\n",
       "    <tr>\n",
       "      <th>spain</th>\n",
       "      <td>2420461</td>\n",
       "      <td>1.261726e+08</td>\n",
       "    </tr>\n",
       "    <tr>\n",
       "      <th>greece</th>\n",
       "      <td>2083216</td>\n",
       "      <td>1.101990e+08</td>\n",
       "    </tr>\n",
       "  </tbody>\n",
       "</table>\n",
       "</div>"
      ],
      "text/plain": [
       "         customers_per_day  sales_per_day\n",
       "country                                  \n",
       "germany            4900463   2.562041e+08\n",
       "italy              2757708   1.455911e+08\n",
       "austria            2445485   1.295447e+08\n",
       "spain              2420461   1.261726e+08\n",
       "greece             2083216   1.101990e+08"
      ]
     },
     "execution_count": 52,
     "metadata": {},
     "output_type": "execute_result"
    }
   ],
   "source": [
    "country_df = country_df.sort_values('sales_per_day', ascending = False)\n",
    "country_df.head()"
   ]
  },
  {
   "cell_type": "markdown",
   "metadata": {},
   "source": [
    "Observation: Germany had the highest numbers of sales \n",
    "\n",
    "The second number of sales was in Italy\n",
    "\n",
    "Minimum sales is in Greece"
   ]
  },
  {
   "cell_type": "code",
   "execution_count": 60,
   "metadata": {},
   "outputs": [
    {
     "data": {
      "text/plain": [
       "<AxesSubplot:xlabel='country', ylabel='sales_per_day'>"
      ]
     },
     "execution_count": 60,
     "metadata": {},
     "output_type": "execute_result"
    },
    {
     "data": {
      "image/png": "[encoded data removed]",
      "text/plain": [
       "<Figure size 864x432 with 1 Axes>"
      ]
     },
     "metadata": {
      "needs_background": "light"
     },
     "output_type": "display_data"
    }
   ],
   "source": [
    "sns.barplot(x=\"country\",y=\"sales_per_day\",data=df,palette=['green','blue'])"
   ]
  },
  {
   "cell_type": "code",
   "execution_count": null,
   "metadata": {},
   "outputs": [],
   "source": [
    "Which outlet has maximum  sales?"
   ]
  },
  {
   "cell_type": "code",
   "execution_count": 53,
   "metadata": {},
   "outputs": [
    {
     "data": {
      "text/html": [
       "<div>\n",
       "<style scoped>\n",
       "    .dataframe tbody tr th:only-of-type {\n",
       "        vertical-align: middle;\n",
       "    }\n",
       "\n",
       "    .dataframe tbody tr th {\n",
       "        vertical-align: top;\n",
       "    }\n",
       "\n",
       "    .dataframe thead th {\n",
       "        text-align: right;\n",
       "    }\n",
       "</style>\n",
       "<table border=\"1\" class=\"dataframe\">\n",
       "  <thead>\n",
       "    <tr style=\"text-align: right;\">\n",
       "      <th></th>\n",
       "      <th>customers_per_day</th>\n",
       "      <th>sales_per_day</th>\n",
       "    </tr>\n",
       "    <tr>\n",
       "      <th>outlet_id</th>\n",
       "      <th></th>\n",
       "      <th></th>\n",
       "    </tr>\n",
       "  </thead>\n",
       "  <tbody>\n",
       "    <tr>\n",
       "      <th>0</th>\n",
       "      <td>9597</td>\n",
       "      <td>653518.89</td>\n",
       "    </tr>\n",
       "    <tr>\n",
       "      <th>14</th>\n",
       "      <td>354594</td>\n",
       "      <td>18342069.94</td>\n",
       "    </tr>\n",
       "    <tr>\n",
       "      <th>17</th>\n",
       "      <td>344238</td>\n",
       "      <td>18207785.67</td>\n",
       "    </tr>\n",
       "    <tr>\n",
       "      <th>51</th>\n",
       "      <td>350335</td>\n",
       "      <td>18246221.50</td>\n",
       "    </tr>\n",
       "    <tr>\n",
       "      <th>52</th>\n",
       "      <td>342984</td>\n",
       "      <td>18403331.76</td>\n",
       "    </tr>\n",
       "    <tr>\n",
       "      <th>56</th>\n",
       "      <td>342937</td>\n",
       "      <td>18066711.53</td>\n",
       "    </tr>\n",
       "    <tr>\n",
       "      <th>59</th>\n",
       "      <td>345286</td>\n",
       "      <td>18335952.64</td>\n",
       "    </tr>\n",
       "    <tr>\n",
       "      <th>70</th>\n",
       "      <td>345178</td>\n",
       "      <td>18025947.12</td>\n",
       "    </tr>\n",
       "    <tr>\n",
       "      <th>74</th>\n",
       "      <td>347277</td>\n",
       "      <td>18144852.75</td>\n",
       "    </tr>\n",
       "    <tr>\n",
       "      <th>79</th>\n",
       "      <td>360737</td>\n",
       "      <td>18160006.17</td>\n",
       "    </tr>\n",
       "    <tr>\n",
       "      <th>81</th>\n",
       "      <td>340079</td>\n",
       "      <td>18206703.75</td>\n",
       "    </tr>\n",
       "    <tr>\n",
       "      <th>86</th>\n",
       "      <td>348202</td>\n",
       "      <td>18199119.48</td>\n",
       "    </tr>\n",
       "    <tr>\n",
       "      <th>95</th>\n",
       "      <td>347244</td>\n",
       "      <td>18142410.44</td>\n",
       "    </tr>\n",
       "    <tr>\n",
       "      <th>97</th>\n",
       "      <td>358864</td>\n",
       "      <td>18249997.73</td>\n",
       "    </tr>\n",
       "    <tr>\n",
       "      <th>99</th>\n",
       "      <td>344124</td>\n",
       "      <td>18145412.41</td>\n",
       "    </tr>\n",
       "    <tr>\n",
       "      <th>100</th>\n",
       "      <td>338652</td>\n",
       "      <td>18105081.46</td>\n",
       "    </tr>\n",
       "    <tr>\n",
       "      <th>106</th>\n",
       "      <td>340190</td>\n",
       "      <td>17913817.62</td>\n",
       "    </tr>\n",
       "    <tr>\n",
       "      <th>108</th>\n",
       "      <td>344346</td>\n",
       "      <td>17964724.21</td>\n",
       "    </tr>\n",
       "    <tr>\n",
       "      <th>112</th>\n",
       "      <td>349942</td>\n",
       "      <td>18009658.52</td>\n",
       "    </tr>\n",
       "    <tr>\n",
       "      <th>142</th>\n",
       "      <td>345883</td>\n",
       "      <td>17938985.11</td>\n",
       "    </tr>\n",
       "    <tr>\n",
       "      <th>164</th>\n",
       "      <td>349813</td>\n",
       "      <td>17976721.94</td>\n",
       "    </tr>\n",
       "    <tr>\n",
       "      <th>187</th>\n",
       "      <td>352245</td>\n",
       "      <td>18149213.82</td>\n",
       "    </tr>\n",
       "    <tr>\n",
       "      <th>222</th>\n",
       "      <td>347221</td>\n",
       "      <td>18257082.82</td>\n",
       "    </tr>\n",
       "    <tr>\n",
       "      <th>234</th>\n",
       "      <td>348030</td>\n",
       "      <td>18310277.57</td>\n",
       "    </tr>\n",
       "    <tr>\n",
       "      <th>240</th>\n",
       "      <td>340812</td>\n",
       "      <td>18320118.01</td>\n",
       "    </tr>\n",
       "    <tr>\n",
       "      <th>251</th>\n",
       "      <td>349432</td>\n",
       "      <td>18438035.89</td>\n",
       "    </tr>\n",
       "    <tr>\n",
       "      <th>255</th>\n",
       "      <td>345292</td>\n",
       "      <td>18272397.38</td>\n",
       "    </tr>\n",
       "    <tr>\n",
       "      <th>298</th>\n",
       "      <td>350797</td>\n",
       "      <td>18487618.32</td>\n",
       "    </tr>\n",
       "    <tr>\n",
       "      <th>301</th>\n",
       "      <td>341950</td>\n",
       "      <td>18563205.55</td>\n",
       "    </tr>\n",
       "    <tr>\n",
       "      <th>333</th>\n",
       "      <td>344549</td>\n",
       "      <td>18494716.31</td>\n",
       "    </tr>\n",
       "    <tr>\n",
       "      <th>334</th>\n",
       "      <td>352309</td>\n",
       "      <td>18555190.16</td>\n",
       "    </tr>\n",
       "    <tr>\n",
       "      <th>339</th>\n",
       "      <td>352665</td>\n",
       "      <td>18691716.30</td>\n",
       "    </tr>\n",
       "    <tr>\n",
       "      <th>342</th>\n",
       "      <td>345869</td>\n",
       "      <td>18275932.21</td>\n",
       "    </tr>\n",
       "    <tr>\n",
       "      <th>363</th>\n",
       "      <td>349143</td>\n",
       "      <td>18502705.93</td>\n",
       "    </tr>\n",
       "    <tr>\n",
       "      <th>399</th>\n",
       "      <td>351927</td>\n",
       "      <td>18311360.74</td>\n",
       "    </tr>\n",
       "    <tr>\n",
       "      <th>408</th>\n",
       "      <td>347674</td>\n",
       "      <td>18528149.47</td>\n",
       "    </tr>\n",
       "    <tr>\n",
       "      <th>421</th>\n",
       "      <td>343916</td>\n",
       "      <td>18708983.59</td>\n",
       "    </tr>\n",
       "    <tr>\n",
       "      <th>477</th>\n",
       "      <td>345735</td>\n",
       "      <td>18797331.72</td>\n",
       "    </tr>\n",
       "    <tr>\n",
       "      <th>509</th>\n",
       "      <td>351448</td>\n",
       "      <td>18216642.86</td>\n",
       "    </tr>\n",
       "    <tr>\n",
       "      <th>530</th>\n",
       "      <td>346653</td>\n",
       "      <td>17975909.81</td>\n",
       "    </tr>\n",
       "    <tr>\n",
       "      <th>551</th>\n",
       "      <td>350973</td>\n",
       "      <td>18330746.60</td>\n",
       "    </tr>\n",
       "    <tr>\n",
       "      <th>555</th>\n",
       "      <td>351320</td>\n",
       "      <td>18410941.34</td>\n",
       "    </tr>\n",
       "    <tr>\n",
       "      <th>582</th>\n",
       "      <td>330929</td>\n",
       "      <td>18283325.78</td>\n",
       "    </tr>\n",
       "    <tr>\n",
       "      <th>588</th>\n",
       "      <td>339095</td>\n",
       "      <td>18287040.34</td>\n",
       "    </tr>\n",
       "    <tr>\n",
       "      <th>598</th>\n",
       "      <td>711326</td>\n",
       "      <td>36924447.55</td>\n",
       "    </tr>\n",
       "    <tr>\n",
       "      <th>601</th>\n",
       "      <td>345554</td>\n",
       "      <td>18335763.90</td>\n",
       "    </tr>\n",
       "    <tr>\n",
       "      <th>608</th>\n",
       "      <td>342322</td>\n",
       "      <td>18069885.33</td>\n",
       "    </tr>\n",
       "    <tr>\n",
       "      <th>645</th>\n",
       "      <td>345184</td>\n",
       "      <td>18067262.26</td>\n",
       "    </tr>\n",
       "    <tr>\n",
       "      <th>652</th>\n",
       "      <td>351755</td>\n",
       "      <td>18250631.94</td>\n",
       "    </tr>\n",
       "    <tr>\n",
       "      <th>694</th>\n",
       "      <td>345174</td>\n",
       "      <td>18046791.75</td>\n",
       "    </tr>\n",
       "    <tr>\n",
       "      <th>698</th>\n",
       "      <td>341913</td>\n",
       "      <td>18327253.14</td>\n",
       "    </tr>\n",
       "  </tbody>\n",
       "</table>\n",
       "</div>"
      ],
      "text/plain": [
       "           customers_per_day  sales_per_day\n",
       "outlet_id                                  \n",
       "0                       9597      653518.89\n",
       "14                    354594    18342069.94\n",
       "17                    344238    18207785.67\n",
       "51                    350335    18246221.50\n",
       "52                    342984    18403331.76\n",
       "56                    342937    18066711.53\n",
       "59                    345286    18335952.64\n",
       "70                    345178    18025947.12\n",
       "74                    347277    18144852.75\n",
       "79                    360737    18160006.17\n",
       "81                    340079    18206703.75\n",
       "86                    348202    18199119.48\n",
       "95                    347244    18142410.44\n",
       "97                    358864    18249997.73\n",
       "99                    344124    18145412.41\n",
       "100                   338652    18105081.46\n",
       "106                   340190    17913817.62\n",
       "108                   344346    17964724.21\n",
       "112                   349942    18009658.52\n",
       "142                   345883    17938985.11\n",
       "164                   349813    17976721.94\n",
       "187                   352245    18149213.82\n",
       "222                   347221    18257082.82\n",
       "234                   348030    18310277.57\n",
       "240                   340812    18320118.01\n",
       "251                   349432    18438035.89\n",
       "255                   345292    18272397.38\n",
       "298                   350797    18487618.32\n",
       "301                   341950    18563205.55\n",
       "333                   344549    18494716.31\n",
       "334                   352309    18555190.16\n",
       "339                   352665    18691716.30\n",
       "342                   345869    18275932.21\n",
       "363                   349143    18502705.93\n",
       "399                   351927    18311360.74\n",
       "408                   347674    18528149.47\n",
       "421                   343916    18708983.59\n",
       "477                   345735    18797331.72\n",
       "509                   351448    18216642.86\n",
       "530                   346653    17975909.81\n",
       "551                   350973    18330746.60\n",
       "555                   351320    18410941.34\n",
       "582                   330929    18283325.78\n",
       "588                   339095    18287040.34\n",
       "598                   711326    36924447.55\n",
       "601                   345554    18335763.90\n",
       "608                   342322    18069885.33\n",
       "645                   345184    18067262.26\n",
       "652                   351755    18250631.94\n",
       "694                   345174    18046791.75\n",
       "698                   341913    18327253.14"
      ]
     },
     "execution_count": 53,
     "metadata": {},
     "output_type": "execute_result"
    }
   ],
   "source": [
    "outlet_df = df.groupby('outlet_id').sum()\n",
    "outlet_df"
   ]
  },
  {
   "cell_type": "code",
   "execution_count": 55,
   "metadata": {},
   "outputs": [
    {
     "data": {
      "text/html": [
       "<div>\n",
       "<style scoped>\n",
       "    .dataframe tbody tr th:only-of-type {\n",
       "        vertical-align: middle;\n",
       "    }\n",
       "\n",
       "    .dataframe tbody tr th {\n",
       "        vertical-align: top;\n",
       "    }\n",
       "\n",
       "    .dataframe thead th {\n",
       "        text-align: right;\n",
       "    }\n",
       "</style>\n",
       "<table border=\"1\" class=\"dataframe\">\n",
       "  <thead>\n",
       "    <tr style=\"text-align: right;\">\n",
       "      <th></th>\n",
       "      <th>customers_per_day</th>\n",
       "      <th>sales_per_day</th>\n",
       "    </tr>\n",
       "    <tr>\n",
       "      <th>outlet_id</th>\n",
       "      <th></th>\n",
       "      <th></th>\n",
       "    </tr>\n",
       "  </thead>\n",
       "  <tbody>\n",
       "    <tr>\n",
       "      <th>598</th>\n",
       "      <td>711326</td>\n",
       "      <td>36924447.55</td>\n",
       "    </tr>\n",
       "    <tr>\n",
       "      <th>477</th>\n",
       "      <td>345735</td>\n",
       "      <td>18797331.72</td>\n",
       "    </tr>\n",
       "    <tr>\n",
       "      <th>421</th>\n",
       "      <td>343916</td>\n",
       "      <td>18708983.59</td>\n",
       "    </tr>\n",
       "    <tr>\n",
       "      <th>339</th>\n",
       "      <td>352665</td>\n",
       "      <td>18691716.30</td>\n",
       "    </tr>\n",
       "    <tr>\n",
       "      <th>301</th>\n",
       "      <td>341950</td>\n",
       "      <td>18563205.55</td>\n",
       "    </tr>\n",
       "  </tbody>\n",
       "</table>\n",
       "</div>"
      ],
      "text/plain": [
       "           customers_per_day  sales_per_day\n",
       "outlet_id                                  \n",
       "598                   711326    36924447.55\n",
       "477                   345735    18797331.72\n",
       "421                   343916    18708983.59\n",
       "339                   352665    18691716.30\n",
       "301                   341950    18563205.55"
      ]
     },
     "execution_count": 55,
     "metadata": {},
     "output_type": "execute_result"
    }
   ],
   "source": [
    "outlet_df = outlet_df.sort_values('sales_per_day', ascending = False)\n",
    "outlet_df.head()"
   ]
  },
  {
   "cell_type": "markdown",
   "metadata": {},
   "source": [
    "Observation: \n",
    "Outliet_id 598 has overall maximum sales as well as customers"
   ]
  },
  {
   "cell_type": "code",
   "execution_count": null,
   "metadata": {},
   "outputs": [],
   "source": [
    " What was the best month for sales in 2018? How much was earned that month?"
   ]
  },
  {
   "cell_type": "code",
   "execution_count": 58,
   "metadata": {},
   "outputs": [
    {
     "data": {
      "text/html": [
       "<div>\n",
       "<style scoped>\n",
       "    .dataframe tbody tr th:only-of-type {\n",
       "        vertical-align: middle;\n",
       "    }\n",
       "\n",
       "    .dataframe tbody tr th {\n",
       "        vertical-align: top;\n",
       "    }\n",
       "\n",
       "    .dataframe thead th {\n",
       "        text-align: right;\n",
       "    }\n",
       "</style>\n",
       "<table border=\"1\" class=\"dataframe\">\n",
       "  <thead>\n",
       "    <tr style=\"text-align: right;\">\n",
       "      <th></th>\n",
       "      <th>customers_per_day</th>\n",
       "      <th>sales_per_day</th>\n",
       "    </tr>\n",
       "    <tr>\n",
       "      <th>week_id</th>\n",
       "      <th></th>\n",
       "      <th></th>\n",
       "    </tr>\n",
       "  </thead>\n",
       "  <tbody>\n",
       "    <tr>\n",
       "      <th>49</th>\n",
       "      <td>491950</td>\n",
       "      <td>19629967.47</td>\n",
       "    </tr>\n",
       "    <tr>\n",
       "      <th>47</th>\n",
       "      <td>489309</td>\n",
       "      <td>19493186.31</td>\n",
       "    </tr>\n",
       "    <tr>\n",
       "      <th>51</th>\n",
       "      <td>495007</td>\n",
       "      <td>19459536.17</td>\n",
       "    </tr>\n",
       "    <tr>\n",
       "      <th>52</th>\n",
       "      <td>489078</td>\n",
       "      <td>19438473.09</td>\n",
       "    </tr>\n",
       "    <tr>\n",
       "      <th>48</th>\n",
       "      <td>483259</td>\n",
       "      <td>19411073.01</td>\n",
       "    </tr>\n",
       "    <tr>\n",
       "      <th>50</th>\n",
       "      <td>481253</td>\n",
       "      <td>19327860.40</td>\n",
       "    </tr>\n",
       "    <tr>\n",
       "      <th>46</th>\n",
       "      <td>330318</td>\n",
       "      <td>18667208.69</td>\n",
       "    </tr>\n",
       "    <tr>\n",
       "      <th>37</th>\n",
       "      <td>330571</td>\n",
       "      <td>18549681.15</td>\n",
       "    </tr>\n",
       "    <tr>\n",
       "      <th>43</th>\n",
       "      <td>340671</td>\n",
       "      <td>18517472.74</td>\n",
       "    </tr>\n",
       "    <tr>\n",
       "      <th>42</th>\n",
       "      <td>321813</td>\n",
       "      <td>18498070.47</td>\n",
       "    </tr>\n",
       "    <tr>\n",
       "      <th>5</th>\n",
       "      <td>341069</td>\n",
       "      <td>18481855.47</td>\n",
       "    </tr>\n",
       "    <tr>\n",
       "      <th>40</th>\n",
       "      <td>327341</td>\n",
       "      <td>18455093.14</td>\n",
       "    </tr>\n",
       "    <tr>\n",
       "      <th>39</th>\n",
       "      <td>327779</td>\n",
       "      <td>18416945.57</td>\n",
       "    </tr>\n",
       "    <tr>\n",
       "      <th>34</th>\n",
       "      <td>333124</td>\n",
       "      <td>18400121.95</td>\n",
       "    </tr>\n",
       "    <tr>\n",
       "      <th>41</th>\n",
       "      <td>330482</td>\n",
       "      <td>18379923.61</td>\n",
       "    </tr>\n",
       "    <tr>\n",
       "      <th>35</th>\n",
       "      <td>330871</td>\n",
       "      <td>18376165.70</td>\n",
       "    </tr>\n",
       "    <tr>\n",
       "      <th>32</th>\n",
       "      <td>326849</td>\n",
       "      <td>18355820.76</td>\n",
       "    </tr>\n",
       "    <tr>\n",
       "      <th>30</th>\n",
       "      <td>333569</td>\n",
       "      <td>18341410.13</td>\n",
       "    </tr>\n",
       "    <tr>\n",
       "      <th>36</th>\n",
       "      <td>330699</td>\n",
       "      <td>18326935.83</td>\n",
       "    </tr>\n",
       "    <tr>\n",
       "      <th>31</th>\n",
       "      <td>328653</td>\n",
       "      <td>18299577.03</td>\n",
       "    </tr>\n",
       "    <tr>\n",
       "      <th>45</th>\n",
       "      <td>327465</td>\n",
       "      <td>18287708.50</td>\n",
       "    </tr>\n",
       "    <tr>\n",
       "      <th>44</th>\n",
       "      <td>326094</td>\n",
       "      <td>18283449.78</td>\n",
       "    </tr>\n",
       "    <tr>\n",
       "      <th>27</th>\n",
       "      <td>323659</td>\n",
       "      <td>18281012.99</td>\n",
       "    </tr>\n",
       "    <tr>\n",
       "      <th>38</th>\n",
       "      <td>332964</td>\n",
       "      <td>18269305.11</td>\n",
       "    </tr>\n",
       "    <tr>\n",
       "      <th>28</th>\n",
       "      <td>319728</td>\n",
       "      <td>18223368.07</td>\n",
       "    </tr>\n",
       "    <tr>\n",
       "      <th>29</th>\n",
       "      <td>316927</td>\n",
       "      <td>18211798.53</td>\n",
       "    </tr>\n",
       "    <tr>\n",
       "      <th>14</th>\n",
       "      <td>337830</td>\n",
       "      <td>18202962.56</td>\n",
       "    </tr>\n",
       "    <tr>\n",
       "      <th>33</th>\n",
       "      <td>334883</td>\n",
       "      <td>18193828.12</td>\n",
       "    </tr>\n",
       "    <tr>\n",
       "      <th>22</th>\n",
       "      <td>323678</td>\n",
       "      <td>18098119.55</td>\n",
       "    </tr>\n",
       "    <tr>\n",
       "      <th>26</th>\n",
       "      <td>324462</td>\n",
       "      <td>18096487.36</td>\n",
       "    </tr>\n",
       "    <tr>\n",
       "      <th>23</th>\n",
       "      <td>330508</td>\n",
       "      <td>18090088.76</td>\n",
       "    </tr>\n",
       "    <tr>\n",
       "      <th>20</th>\n",
       "      <td>327599</td>\n",
       "      <td>18066335.68</td>\n",
       "    </tr>\n",
       "    <tr>\n",
       "      <th>24</th>\n",
       "      <td>320479</td>\n",
       "      <td>18060246.85</td>\n",
       "    </tr>\n",
       "    <tr>\n",
       "      <th>21</th>\n",
       "      <td>328122</td>\n",
       "      <td>17984821.29</td>\n",
       "    </tr>\n",
       "    <tr>\n",
       "      <th>13</th>\n",
       "      <td>331469</td>\n",
       "      <td>17979806.32</td>\n",
       "    </tr>\n",
       "    <tr>\n",
       "      <th>19</th>\n",
       "      <td>332529</td>\n",
       "      <td>17955891.43</td>\n",
       "    </tr>\n",
       "    <tr>\n",
       "      <th>17</th>\n",
       "      <td>331156</td>\n",
       "      <td>17940052.69</td>\n",
       "    </tr>\n",
       "    <tr>\n",
       "      <th>16</th>\n",
       "      <td>322391</td>\n",
       "      <td>17929067.71</td>\n",
       "    </tr>\n",
       "    <tr>\n",
       "      <th>25</th>\n",
       "      <td>323439</td>\n",
       "      <td>17911859.38</td>\n",
       "    </tr>\n",
       "    <tr>\n",
       "      <th>6</th>\n",
       "      <td>328446</td>\n",
       "      <td>17900229.09</td>\n",
       "    </tr>\n",
       "    <tr>\n",
       "      <th>15</th>\n",
       "      <td>328921</td>\n",
       "      <td>17882301.21</td>\n",
       "    </tr>\n",
       "    <tr>\n",
       "      <th>9</th>\n",
       "      <td>323407</td>\n",
       "      <td>17872565.20</td>\n",
       "    </tr>\n",
       "    <tr>\n",
       "      <th>10</th>\n",
       "      <td>320948</td>\n",
       "      <td>17837191.14</td>\n",
       "    </tr>\n",
       "    <tr>\n",
       "      <th>18</th>\n",
       "      <td>329580</td>\n",
       "      <td>17829728.67</td>\n",
       "    </tr>\n",
       "    <tr>\n",
       "      <th>11</th>\n",
       "      <td>326749</td>\n",
       "      <td>17791668.75</td>\n",
       "    </tr>\n",
       "    <tr>\n",
       "      <th>2</th>\n",
       "      <td>336344</td>\n",
       "      <td>17779815.87</td>\n",
       "    </tr>\n",
       "    <tr>\n",
       "      <th>12</th>\n",
       "      <td>328247</td>\n",
       "      <td>17700131.82</td>\n",
       "    </tr>\n",
       "    <tr>\n",
       "      <th>7</th>\n",
       "      <td>327649</td>\n",
       "      <td>17629057.83</td>\n",
       "    </tr>\n",
       "    <tr>\n",
       "      <th>8</th>\n",
       "      <td>319785</td>\n",
       "      <td>17623972.09</td>\n",
       "    </tr>\n",
       "    <tr>\n",
       "      <th>3</th>\n",
       "      <td>322302</td>\n",
       "      <td>17610810.69</td>\n",
       "    </tr>\n",
       "    <tr>\n",
       "      <th>4</th>\n",
       "      <td>325047</td>\n",
       "      <td>17507460.29</td>\n",
       "    </tr>\n",
       "    <tr>\n",
       "      <th>0</th>\n",
       "      <td>17242</td>\n",
       "      <td>772187.01</td>\n",
       "    </tr>\n",
       "  </tbody>\n",
       "</table>\n",
       "</div>"
      ],
      "text/plain": [
       "         customers_per_day  sales_per_day\n",
       "week_id                                  \n",
       "49                  491950    19629967.47\n",
       "47                  489309    19493186.31\n",
       "51                  495007    19459536.17\n",
       "52                  489078    19438473.09\n",
       "48                  483259    19411073.01\n",
       "50                  481253    19327860.40\n",
       "46                  330318    18667208.69\n",
       "37                  330571    18549681.15\n",
       "43                  340671    18517472.74\n",
       "42                  321813    18498070.47\n",
       "5                   341069    18481855.47\n",
       "40                  327341    18455093.14\n",
       "39                  327779    18416945.57\n",
       "34                  333124    18400121.95\n",
       "41                  330482    18379923.61\n",
       "35                  330871    18376165.70\n",
       "32                  326849    18355820.76\n",
       "30                  333569    18341410.13\n",
       "36                  330699    18326935.83\n",
       "31                  328653    18299577.03\n",
       "45                  327465    18287708.50\n",
       "44                  326094    18283449.78\n",
       "27                  323659    18281012.99\n",
       "38                  332964    18269305.11\n",
       "28                  319728    18223368.07\n",
       "29                  316927    18211798.53\n",
       "14                  337830    18202962.56\n",
       "33                  334883    18193828.12\n",
       "22                  323678    18098119.55\n",
       "26                  324462    18096487.36\n",
       "23                  330508    18090088.76\n",
       "20                  327599    18066335.68\n",
       "24                  320479    18060246.85\n",
       "21                  328122    17984821.29\n",
       "13                  331469    17979806.32\n",
       "19                  332529    17955891.43\n",
       "17                  331156    17940052.69\n",
       "16                  322391    17929067.71\n",
       "25                  323439    17911859.38\n",
       "6                   328446    17900229.09\n",
       "15                  328921    17882301.21\n",
       "9                   323407    17872565.20\n",
       "10                  320948    17837191.14\n",
       "18                  329580    17829728.67\n",
       "11                  326749    17791668.75\n",
       "2                   336344    17779815.87\n",
       "12                  328247    17700131.82\n",
       "7                   327649    17629057.83\n",
       "8                   319785    17623972.09\n",
       "3                   322302    17610810.69\n",
       "4                   325047    17507460.29\n",
       "0                    17242      772187.01"
      ]
     },
     "execution_count": 58,
     "metadata": {},
     "output_type": "execute_result"
    }
   ],
   "source": [
    "results = df.groupby('week_id').sum()\n",
    "results= results.sort_values('sales_per_day', ascending = False)\n",
    "\n",
    "results"
   ]
  },
  {
   "cell_type": "code",
   "execution_count": 112,
   "metadata": {},
   "outputs": [
    {
     "data": {
      "text/plain": [
       "<AxesSubplot:xlabel='week_id', ylabel='sales_per_day'>"
      ]
     },
     "execution_count": 112,
     "metadata": {},
     "output_type": "execute_result"
    },
    {
     "data": {
      "image/png": "[encoded data removed]",
      "text/plain": [
       "<Figure size 864x432 with 1 Axes>"
      ]
     },
     "metadata": {
      "needs_background": "light"
     },
     "output_type": "display_data"
    }
   ],
   "source": [
    "plt.rcParams['figure.figsize'] = (12, 6)\n",
    "sns.barplot(x=\"week_id\",y=\"sales_per_day\",data=df)"
   ]
  },
  {
   "cell_type": "code",
   "execution_count": 113,
   "metadata": {},
   "outputs": [
    {
     "data": {
      "image/png": "[encoded data removed]",
      "text/plain": [
       "<Figure size 1008x576 with 1 Axes>"
      ]
     },
     "metadata": {
      "needs_background": "light"
     },
     "output_type": "display_data"
    }
   ],
   "source": [
    "# Set the figure size\n",
    "plt.figure(figsize=(14, 8))\n",
    "\n",
    "# plot a bar chart\n",
    "ax = sns.barplot(x=\"weekday\", y=\"customers_per_day\", data=df, estimator=np.mean, ci=85, capsize=.2, color='lightblue')"
   ]
  },
  {
   "cell_type": "code",
   "execution_count": 114,
   "metadata": {},
   "outputs": [
    {
     "data": {
      "image/png": "[encoded data removed]",
      "text/plain": [
       "<Figure size 1008x576 with 1 Axes>"
      ]
     },
     "metadata": {
      "needs_background": "light"
     },
     "output_type": "display_data"
    }
   ],
   "source": [
    "# Set the figure size\n",
    "plt.figure(figsize=(14, 8))\n",
    "\n",
    "# plot a bar chart\n",
    "ax = sns.barplot(x=\"weekday\", y=\"sales_per_day\", data=df, estimator=np.mean, ci=85, capsize=.2, color='lightblue')"
   ]
  },
  {
   "cell_type": "code",
   "execution_count": 23,
   "metadata": {},
   "outputs": [
    {
     "data": {
      "text/plain": [
       "brand                    2\n",
       "country                  7\n",
       "currency                 2\n",
       "customers_per_day     2977\n",
       "outlet_id               51\n",
       "week_id                 52\n",
       "weekday                  6\n",
       "sales_per_day        15543\n",
       "dtype: int64"
      ]
     },
     "execution_count": 23,
     "metadata": {},
     "output_type": "execute_result"
    }
   ],
   "source": [
    "df.nunique()"
   ]
  },
  {
   "cell_type": "markdown",
   "metadata": {},
   "source": []
  },
  {
   "cell_type": "code",
   "execution_count": 62,
   "metadata": {},
   "outputs": [
    {
     "data": {
      "text/plain": [
       "<AxesSubplot:xlabel='country', ylabel='sales_per_day'>"
      ]
     },
     "execution_count": 62,
     "metadata": {},
     "output_type": "execute_result"
    },
    {
     "data": {
      "image/png": "[encoded data removed]",
      "text/plain": [
       "<Figure size 864x432 with 1 Axes>"
      ]
     },
     "metadata": {
      "needs_background": "light"
     },
     "output_type": "display_data"
    }
   ],
   "source": [
    "sns.barplot(x=\"country\",y=\"sales_per_day\",hue = \"brand\",data=df,palette=['green','blue'])"
   ]
  },
  {
   "cell_type": "markdown",
   "metadata": {},
   "source": [
    "Observation:\n",
    "1) All countries has uniform sales\n",
    "\n",
    "2) Switzerland do not has Saturn outlet\n"
   ]
  },
  {
   "cell_type": "code",
   "execution_count": null,
   "metadata": {},
   "outputs": [],
   "source": []
  },
  {
   "cell_type": "markdown",
   "metadata": {},
   "source": [
    "## Currency is used by which country?"
   ]
  },
  {
   "cell_type": "code",
   "execution_count": 63,
   "metadata": {},
   "outputs": [
    {
     "data": {
      "text/html": [
       "<div>\n",
       "<style scoped>\n",
       "    .dataframe tbody tr th:only-of-type {\n",
       "        vertical-align: middle;\n",
       "    }\n",
       "\n",
       "    .dataframe tbody tr th {\n",
       "        vertical-align: top;\n",
       "    }\n",
       "\n",
       "    .dataframe thead th {\n",
       "        text-align: right;\n",
       "    }\n",
       "</style>\n",
       "<table border=\"1\" class=\"dataframe\">\n",
       "  <thead>\n",
       "    <tr style=\"text-align: right;\">\n",
       "      <th></th>\n",
       "      <th>country</th>\n",
       "      <th>currency</th>\n",
       "      <th>0</th>\n",
       "    </tr>\n",
       "  </thead>\n",
       "  <tbody>\n",
       "    <tr>\n",
       "      <th>0</th>\n",
       "      <td>austria</td>\n",
       "      <td>EURO</td>\n",
       "      <td>2140</td>\n",
       "    </tr>\n",
       "    <tr>\n",
       "      <th>1</th>\n",
       "      <td>germany</td>\n",
       "      <td>CHF</td>\n",
       "      <td>1</td>\n",
       "    </tr>\n",
       "    <tr>\n",
       "      <th>2</th>\n",
       "      <td>germany</td>\n",
       "      <td>EURO</td>\n",
       "      <td>4298</td>\n",
       "    </tr>\n",
       "    <tr>\n",
       "      <th>3</th>\n",
       "      <td>greece</td>\n",
       "      <td>EURO</td>\n",
       "      <td>1833</td>\n",
       "    </tr>\n",
       "    <tr>\n",
       "      <th>4</th>\n",
       "      <td>italy</td>\n",
       "      <td>EURO</td>\n",
       "      <td>2442</td>\n",
       "    </tr>\n",
       "    <tr>\n",
       "      <th>5</th>\n",
       "      <td>netherlands</td>\n",
       "      <td>EURO</td>\n",
       "      <td>1831</td>\n",
       "    </tr>\n",
       "    <tr>\n",
       "      <th>6</th>\n",
       "      <td>spain</td>\n",
       "      <td>EURO</td>\n",
       "      <td>2140</td>\n",
       "    </tr>\n",
       "    <tr>\n",
       "      <th>7</th>\n",
       "      <td>switzerland</td>\n",
       "      <td>CHF</td>\n",
       "      <td>915</td>\n",
       "    </tr>\n",
       "    <tr>\n",
       "      <th>8</th>\n",
       "      <td>switzerland</td>\n",
       "      <td>EURO</td>\n",
       "      <td>3</td>\n",
       "    </tr>\n",
       "  </tbody>\n",
       "</table>\n",
       "</div>"
      ],
      "text/plain": [
       "       country currency     0\n",
       "0      austria     EURO  2140\n",
       "1      germany      CHF     1\n",
       "2      germany     EURO  4298\n",
       "3       greece     EURO  1833\n",
       "4        italy     EURO  2442\n",
       "5  netherlands     EURO  1831\n",
       "6        spain     EURO  2140\n",
       "7  switzerland      CHF   915\n",
       "8  switzerland     EURO     3"
      ]
     },
     "execution_count": 63,
     "metadata": {},
     "output_type": "execute_result"
    }
   ],
   "source": [
    "df[['country','currency']].groupby(['country','currency']).size().reset_index()"
   ]
  },
  {
   "cell_type": "code",
   "execution_count": null,
   "metadata": {},
   "outputs": [],
   "source": []
  },
  {
   "cell_type": "code",
   "execution_count": 32,
   "metadata": {},
   "outputs": [
    {
     "data": {
      "text/plain": [
       "<seaborn.axisgrid.FacetGrid at 0x134fd3b2100>"
      ]
     },
     "execution_count": 32,
     "metadata": {},
     "output_type": "execute_result"
    },
    {
     "data": {
      "image/png": "[encoded data removed]",
      "text/plain": [
       "<Figure size 360x360 with 1 Axes>"
      ]
     },
     "metadata": {
      "needs_background": "light"
     },
     "output_type": "display_data"
    }
   ],
   "source": [
    "sns.factorplot('currency',data=df,kind='count')"
   ]
  },
  {
   "cell_type": "code",
   "execution_count": 33,
   "metadata": {},
   "outputs": [
    {
     "data": {
      "text/plain": [
       "EURO    0.941293\n",
       "CHF     0.058707\n",
       "Name: currency, dtype: float64"
      ]
     },
     "execution_count": 33,
     "metadata": {},
     "output_type": "execute_result"
    }
   ],
   "source": [
    "df.currency.value_counts(normalize=True)"
   ]
  },
  {
   "cell_type": "markdown",
   "metadata": {},
   "source": [
    "This shows 94%  currency is Euros and aprox 6% is CHF"
   ]
  },
  {
   "cell_type": "markdown",
   "metadata": {},
   "source": [
    "## Pie Chart- Top 3 countries where sales are high"
   ]
  },
  {
   "cell_type": "code",
   "execution_count": 34,
   "metadata": {},
   "outputs": [],
   "source": [
    "country_names=df.country.value_counts().index"
   ]
  },
  {
   "cell_type": "code",
   "execution_count": 35,
   "metadata": {},
   "outputs": [],
   "source": [
    "country_val=df.country.value_counts().values"
   ]
  },
  {
   "cell_type": "code",
   "execution_count": 36,
   "metadata": {},
   "outputs": [
    {
     "data": {
      "text/plain": [
       "([<matplotlib.patches.Wedge at 0x134fce7b1f0>,\n",
       "  <matplotlib.patches.Wedge at 0x134fce7b610>,\n",
       "  <matplotlib.patches.Wedge at 0x134fce7b250>],\n",
       " [Text(0.0550371185604649, 1.0986222806681838, 'germany'),\n",
       "  Text(-0.7944863363753157, -0.7607834523127648, 'italy'),\n",
       "  Text(0.7995817536951726, -0.7554263823548609, 'spain')],\n",
       " [Text(0.030020246487526304, 0.5992485167281002, '48.41%'),\n",
       "  Text(-0.4333561834774449, -0.4149727921705989, '27.50%'),\n",
       "  Text(0.4361355020155486, -0.4120507540117423, '24.10%')])"
      ]
     },
     "execution_count": 36,
     "metadata": {},
     "output_type": "execute_result"
    },
    {
     "data": {
      "image/png": "[encoded data removed]",
      "text/plain": [
       "<Figure size 432x288 with 1 Axes>"
      ]
     },
     "metadata": {},
     "output_type": "display_data"
    }
   ],
   "source": [
    "\n",
    "plt.pie(country_val[:3],labels=country_names[:3],autopct='%1.2f%%')"
   ]
  },
  {
   "cell_type": "markdown",
   "metadata": {},
   "source": [
    "Observation:MMS maximum records or transaction are from Germany After that Italy and then Austria"
   ]
  },
  {
   "cell_type": "code",
   "execution_count": 26,
   "metadata": {},
   "outputs": [
    {
     "data": {
      "text/html": [
       "<div>\n",
       "<style scoped>\n",
       "    .dataframe tbody tr th:only-of-type {\n",
       "        vertical-align: middle;\n",
       "    }\n",
       "\n",
       "    .dataframe tbody tr th {\n",
       "        vertical-align: top;\n",
       "    }\n",
       "\n",
       "    .dataframe thead th {\n",
       "        text-align: right;\n",
       "    }\n",
       "</style>\n",
       "<table border=\"1\" class=\"dataframe\">\n",
       "  <thead>\n",
       "    <tr style=\"text-align: right;\">\n",
       "      <th></th>\n",
       "      <th>brand</th>\n",
       "      <th>country</th>\n",
       "      <th>currency</th>\n",
       "      <th>customers_per_day</th>\n",
       "      <th>outlet_id</th>\n",
       "      <th>week_id</th>\n",
       "      <th>weekday</th>\n",
       "      <th>sales_per_day</th>\n",
       "    </tr>\n",
       "  </thead>\n",
       "  <tbody>\n",
       "    <tr>\n",
       "      <th>7</th>\n",
       "      <td>MediaMarkt</td>\n",
       "      <td>austria</td>\n",
       "      <td>EURO</td>\n",
       "      <td>2028.0</td>\n",
       "      <td>342.0</td>\n",
       "      <td>36.0</td>\n",
       "      <td>sat</td>\n",
       "      <td>0.0</td>\n",
       "    </tr>\n",
       "    <tr>\n",
       "      <th>1241</th>\n",
       "      <td>MediaMarkt</td>\n",
       "      <td>germany</td>\n",
       "      <td>EURO</td>\n",
       "      <td>0.0</td>\n",
       "      <td>52.0</td>\n",
       "      <td>26.0</td>\n",
       "      <td>NaN</td>\n",
       "      <td>0.0</td>\n",
       "    </tr>\n",
       "    <tr>\n",
       "      <th>1388</th>\n",
       "      <td>MediaMarkt</td>\n",
       "      <td>austria</td>\n",
       "      <td>EURO</td>\n",
       "      <td>0.0</td>\n",
       "      <td>363.0</td>\n",
       "      <td>20.0</td>\n",
       "      <td>NaN</td>\n",
       "      <td>0.0</td>\n",
       "    </tr>\n",
       "    <tr>\n",
       "      <th>2009</th>\n",
       "      <td>Saturn</td>\n",
       "      <td>spain</td>\n",
       "      <td>EURO</td>\n",
       "      <td>420.0</td>\n",
       "      <td>187.0</td>\n",
       "      <td>23.0</td>\n",
       "      <td>mon</td>\n",
       "      <td>0.0</td>\n",
       "    </tr>\n",
       "    <tr>\n",
       "      <th>2671</th>\n",
       "      <td>MediaMarkt</td>\n",
       "      <td>netherlands</td>\n",
       "      <td>EURO</td>\n",
       "      <td>429.0</td>\n",
       "      <td>645.0</td>\n",
       "      <td>35.0</td>\n",
       "      <td>tue</td>\n",
       "      <td>0.0</td>\n",
       "    </tr>\n",
       "    <tr>\n",
       "      <th>2729</th>\n",
       "      <td>MediaMarkt</td>\n",
       "      <td>austria</td>\n",
       "      <td>EURO</td>\n",
       "      <td>0.0</td>\n",
       "      <td>339.0</td>\n",
       "      <td>9.0</td>\n",
       "      <td>NaN</td>\n",
       "      <td>0.0</td>\n",
       "    </tr>\n",
       "    <tr>\n",
       "      <th>4269</th>\n",
       "      <td>MediaMarkt</td>\n",
       "      <td>germany</td>\n",
       "      <td>EURO</td>\n",
       "      <td>1250.0</td>\n",
       "      <td>56.0</td>\n",
       "      <td>41.0</td>\n",
       "      <td>wed</td>\n",
       "      <td>0.0</td>\n",
       "    </tr>\n",
       "    <tr>\n",
       "      <th>8173</th>\n",
       "      <td>Saturn</td>\n",
       "      <td>spain</td>\n",
       "      <td>EURO</td>\n",
       "      <td>0.0</td>\n",
       "      <td>187.0</td>\n",
       "      <td>4.0</td>\n",
       "      <td>NaN</td>\n",
       "      <td>0.0</td>\n",
       "    </tr>\n",
       "    <tr>\n",
       "      <th>10502</th>\n",
       "      <td>Saturn</td>\n",
       "      <td>germany</td>\n",
       "      <td>EURO</td>\n",
       "      <td>1996.0</td>\n",
       "      <td>51.0</td>\n",
       "      <td>33.0</td>\n",
       "      <td>fri</td>\n",
       "      <td>0.0</td>\n",
       "    </tr>\n",
       "    <tr>\n",
       "      <th>13006</th>\n",
       "      <td>Saturn</td>\n",
       "      <td>netherlands</td>\n",
       "      <td>EURO</td>\n",
       "      <td>324.0</td>\n",
       "      <td>601.0</td>\n",
       "      <td>36.0</td>\n",
       "      <td>thu</td>\n",
       "      <td>0.0</td>\n",
       "    </tr>\n",
       "    <tr>\n",
       "      <th>13540</th>\n",
       "      <td>MediaMarkt</td>\n",
       "      <td>germany</td>\n",
       "      <td>EURO</td>\n",
       "      <td>0.0</td>\n",
       "      <td>56.0</td>\n",
       "      <td>12.0</td>\n",
       "      <td>NaN</td>\n",
       "      <td>0.0</td>\n",
       "    </tr>\n",
       "    <tr>\n",
       "      <th>14617</th>\n",
       "      <td>MediaMarkt</td>\n",
       "      <td>netherlands</td>\n",
       "      <td>EURO</td>\n",
       "      <td>0.0</td>\n",
       "      <td>645.0</td>\n",
       "      <td>5.0</td>\n",
       "      <td>NaN</td>\n",
       "      <td>0.0</td>\n",
       "    </tr>\n",
       "    <tr>\n",
       "      <th>15026</th>\n",
       "      <td>MediaMarkt</td>\n",
       "      <td>switzerland</td>\n",
       "      <td>CHF</td>\n",
       "      <td>0.0</td>\n",
       "      <td>421.0</td>\n",
       "      <td>49.0</td>\n",
       "      <td>NaN</td>\n",
       "      <td>0.0</td>\n",
       "    </tr>\n",
       "  </tbody>\n",
       "</table>\n",
       "</div>"
      ],
      "text/plain": [
       "            brand      country currency  customers_per_day  outlet_id  \\\n",
       "7      MediaMarkt      austria     EURO             2028.0      342.0   \n",
       "1241   MediaMarkt      germany     EURO                0.0       52.0   \n",
       "1388   MediaMarkt      austria     EURO                0.0      363.0   \n",
       "2009       Saturn        spain     EURO              420.0      187.0   \n",
       "2671   MediaMarkt  netherlands     EURO              429.0      645.0   \n",
       "2729   MediaMarkt      austria     EURO                0.0      339.0   \n",
       "4269   MediaMarkt      germany     EURO             1250.0       56.0   \n",
       "8173       Saturn        spain     EURO                0.0      187.0   \n",
       "10502      Saturn      germany     EURO             1996.0       51.0   \n",
       "13006      Saturn  netherlands     EURO              324.0      601.0   \n",
       "13540  MediaMarkt      germany     EURO                0.0       56.0   \n",
       "14617  MediaMarkt  netherlands     EURO                0.0      645.0   \n",
       "15026  MediaMarkt  switzerland      CHF                0.0      421.0   \n",
       "\n",
       "       week_id weekday  sales_per_day  \n",
       "7         36.0     sat            0.0  \n",
       "1241      26.0     NaN            0.0  \n",
       "1388      20.0     NaN            0.0  \n",
       "2009      23.0     mon            0.0  \n",
       "2671      35.0     tue            0.0  \n",
       "2729       9.0     NaN            0.0  \n",
       "4269      41.0     wed            0.0  \n",
       "8173       4.0     NaN            0.0  \n",
       "10502     33.0     fri            0.0  \n",
       "13006     36.0     thu            0.0  \n",
       "13540     12.0     NaN            0.0  \n",
       "14617      5.0     NaN            0.0  \n",
       "15026     49.0     NaN            0.0  "
      ]
     },
     "execution_count": 26,
     "metadata": {},
     "output_type": "execute_result"
    }
   ],
   "source": [
    "df[df.sales_per_day == 0.0]"
   ]
  },
  {
   "cell_type": "markdown",
   "metadata": {},
   "source": [
    "#plot the pair plot of sales_per_day, customers_per_day, outlet_id in data dataframe."
   ]
  },
  {
   "cell_type": "code",
   "execution_count": 65,
   "metadata": {},
   "outputs": [
    {
     "data": {
      "image/png": "[encoded data removed]",
      "text/plain": [
       "<Figure size 540x540 with 12 Axes>"
      ]
     },
     "metadata": {
      "needs_background": "light"
     },
     "output_type": "display_data"
    }
   ],
   "source": [
    "\n",
    "sns.pairplot(data = df, vars=['sales_per_day','customers_per_day','outlet_id'])\n",
    "plt.show()"
   ]
  },
  {
   "cell_type": "code",
   "execution_count": 37,
   "metadata": {},
   "outputs": [
    {
     "data": {
      "image/png": "[encoded data removed]",
      "text/plain": [
       "<Figure size 432x288 with 1 Axes>"
      ]
     },
     "metadata": {
      "needs_background": "light"
     },
     "output_type": "display_data"
    }
   ],
   "source": [
    "#plot the box plot of sales_per_day for currency.\n",
    "sns.boxplot(df.sales_per_day, df.currency)\n",
    "plt.show()"
   ]
  },
  {
   "cell_type": "markdown",
   "metadata": {},
   "source": []
  },
  {
   "cell_type": "code",
   "execution_count": 69,
   "metadata": {},
   "outputs": [
    {
     "data": {
      "text/plain": [
       "<AxesSubplot:xlabel='customers_per_day', ylabel='sales_per_day'>"
      ]
     },
     "execution_count": 69,
     "metadata": {},
     "output_type": "execute_result"
    },
    {
     "data": {
      "image/png": "[encoded data removed]",
      "text/plain": [
       "<Figure size 864x432 with 1 Axes>"
      ]
     },
     "metadata": {
      "needs_background": "light"
     },
     "output_type": "display_data"
    }
   ],
   "source": [
    "sns.regplot(x=df.customers_per_day, y=df.sales_per_day, color='g')"
   ]
  },
  {
   "cell_type": "markdown",
   "metadata": {},
   "source": [
    "# Handling Categorical Variables"
   ]
  },
  {
   "cell_type": "code",
   "execution_count": 76,
   "metadata": {},
   "outputs": [
    {
     "data": {
      "text/plain": [
       "Index(['brand', 'country', 'currency', 'customers_per_day', 'outlet_id',\n",
       "       'week_id', 'weekday', 'sales_per_day'],\n",
       "      dtype='object')"
      ]
     },
     "execution_count": 76,
     "metadata": {},
     "output_type": "execute_result"
    }
   ],
   "source": [
    "df.columns"
   ]
  },
  {
   "cell_type": "code",
   "execution_count": 78,
   "metadata": {},
   "outputs": [
    {
     "data": {
      "text/plain": [
       "brand                  int32\n",
       "country                int32\n",
       "currency               int32\n",
       "customers_per_day      int32\n",
       "outlet_id              int32\n",
       "week_id                int32\n",
       "weekday                int32\n",
       "sales_per_day        float64\n",
       "dtype: object"
      ]
     },
     "execution_count": 78,
     "metadata": {},
     "output_type": "execute_result"
    }
   ],
   "source": [
    "#CONVERT CATEGORICAL TO NUMERICAL\n",
    "def Encoder(df):\n",
    "    columnsToEncode = list(df.drop(['customers_per_day','sales_per_day'],axis =1).select_dtypes(include=['category','object','boolean']))\n",
    "    le = LabelEncoder()\n",
    "    for feature in columnsToEncode:\n",
    "        try:\n",
    "            df[feature] = le.fit_transform(df[feature])\n",
    "        except:\n",
    "            print('Error encoding '+feature)\n",
    "    return df\n",
    "df = Encoder(df)\n",
    "\n",
    "df.dtypes"
   ]
  },
  {
   "cell_type": "markdown",
   "metadata": {},
   "source": [
    "# Checking Skewness & Kurtosis"
   ]
  },
  {
   "cell_type": "code",
   "execution_count": 80,
   "metadata": {},
   "outputs": [
    {
     "data": {
      "text/plain": [
       "brand                0.905857\n",
       "country              0.339066\n",
       "currency            -3.754853\n",
       "customers_per_day    0.894750\n",
       "outlet_id           -0.036243\n",
       "week_id              0.001135\n",
       "weekday             -0.002519\n",
       "sales_per_day        0.256130\n",
       "dtype: float64"
      ]
     },
     "execution_count": 80,
     "metadata": {},
     "output_type": "execute_result"
    }
   ],
   "source": [
    "#statistics\n",
    "df.skew()"
   ]
  },
  {
   "cell_type": "markdown",
   "metadata": {},
   "source": [
    "Currency is negatively skewed indicates the tail is on the left side of the distribution"
   ]
  },
  {
   "cell_type": "code",
   "execution_count": 81,
   "metadata": {},
   "outputs": [
    {
     "data": {
      "text/plain": [
       "brand                -1.179575\n",
       "country              -1.113492\n",
       "currency             12.100473\n",
       "customers_per_day     0.037380\n",
       "outlet_id            -1.227282\n",
       "week_id              -1.201337\n",
       "weekday              -1.265711\n",
       "sales_per_day         2.347060\n",
       "dtype: float64"
      ]
     },
     "execution_count": 81,
     "metadata": {},
     "output_type": "execute_result"
    }
   ],
   "source": [
    "df.kurtosis()"
   ]
  },
  {
   "cell_type": "markdown",
   "metadata": {},
   "source": [
    "As the distribution in Currency has a kurtosis greater than 3, it has leptokurtic issue, which means it tends to produce more outliers than the normal distribution."
   ]
  },
  {
   "cell_type": "markdown",
   "metadata": {},
   "source": [
    "# Outliers Detection"
   ]
  },
  {
   "cell_type": "code",
   "execution_count": 82,
   "metadata": {},
   "outputs": [],
   "source": [
    "#sns.boxplot(df)"
   ]
  },
  {
   "cell_type": "code",
   "execution_count": 83,
   "metadata": {},
   "outputs": [
    {
     "data": {
      "text/plain": [
       "brand                   AxesSubplot(0.125,0.816017;0.133621x0.0639831)\n",
       "country              AxesSubplot(0.285345,0.816017;0.133621x0.0639831)\n",
       "currency              AxesSubplot(0.44569,0.816017;0.133621x0.0639831)\n",
       "customers_per_day    AxesSubplot(0.606034,0.816017;0.133621x0.0639831)\n",
       "outlet_id            AxesSubplot(0.766379,0.816017;0.133621x0.0639831)\n",
       "week_id                 AxesSubplot(0.125,0.739237;0.133621x0.0639831)\n",
       "weekday              AxesSubplot(0.285345,0.739237;0.133621x0.0639831)\n",
       "sales_per_day         AxesSubplot(0.44569,0.739237;0.133621x0.0639831)\n",
       "dtype: object"
      ]
     },
     "execution_count": 83,
     "metadata": {},
     "output_type": "execute_result"
    },
    {
     "data": {
      "image/png": "[encoded data removed]",
      "text/plain": [
       "<Figure size 1440x1800 with 50 Axes>"
      ]
     },
     "metadata": {
      "needs_background": "light"
     },
     "output_type": "display_data"
    }
   ],
   "source": [
    "df.select_dtypes(include=['integer','float']).plot(kind=\"box\",subplots=True,layout = (10,5),figsize=(20,25))"
   ]
  },
  {
   "cell_type": "code",
   "execution_count": 109,
   "metadata": {},
   "outputs": [],
   "source": [
    "# IQR\n",
    "Q1 = np.percentile(df['sales_per_day'], 25,\n",
    "                   interpolation = 'midpoint')\n",
    " \n",
    "Q3 = np.percentile(df['sales_per_day'], 75,\n",
    "                   interpolation = 'midpoint')\n",
    "IQR = Q3 - Q1"
   ]
  },
  {
   "cell_type": "code",
   "execution_count": 50,
   "metadata": {},
   "outputs": [
    {
     "data": {
      "text/html": [
       "<div>\n",
       "<style scoped>\n",
       "    .dataframe tbody tr th:only-of-type {\n",
       "        vertical-align: middle;\n",
       "    }\n",
       "\n",
       "    .dataframe tbody tr th {\n",
       "        vertical-align: top;\n",
       "    }\n",
       "\n",
       "    .dataframe thead th {\n",
       "        text-align: right;\n",
       "    }\n",
       "</style>\n",
       "<table border=\"1\" class=\"dataframe\">\n",
       "  <thead>\n",
       "    <tr style=\"text-align: right;\">\n",
       "      <th></th>\n",
       "      <th>brand</th>\n",
       "      <th>country</th>\n",
       "      <th>currency</th>\n",
       "      <th>customers_per_day</th>\n",
       "      <th>outlet_id</th>\n",
       "      <th>week_id</th>\n",
       "      <th>weekday</th>\n",
       "      <th>sales_per_day</th>\n",
       "    </tr>\n",
       "  </thead>\n",
       "  <tbody>\n",
       "    <tr>\n",
       "      <th>10</th>\n",
       "      <td>1</td>\n",
       "      <td>4</td>\n",
       "      <td>1</td>\n",
       "      <td>3143</td>\n",
       "      <td>601</td>\n",
       "      <td>49</td>\n",
       "      <td>2</td>\n",
       "      <td>81088.06</td>\n",
       "    </tr>\n",
       "    <tr>\n",
       "      <th>17</th>\n",
       "      <td>1</td>\n",
       "      <td>0</td>\n",
       "      <td>1</td>\n",
       "      <td>2759</td>\n",
       "      <td>333</td>\n",
       "      <td>12</td>\n",
       "      <td>2</td>\n",
       "      <td>81221.75</td>\n",
       "    </tr>\n",
       "    <tr>\n",
       "      <th>124</th>\n",
       "      <td>0</td>\n",
       "      <td>6</td>\n",
       "      <td>0</td>\n",
       "      <td>3266</td>\n",
       "      <td>477</td>\n",
       "      <td>47</td>\n",
       "      <td>2</td>\n",
       "      <td>84944.66</td>\n",
       "    </tr>\n",
       "    <tr>\n",
       "      <th>179</th>\n",
       "      <td>0</td>\n",
       "      <td>4</td>\n",
       "      <td>1</td>\n",
       "      <td>2948</td>\n",
       "      <td>608</td>\n",
       "      <td>37</td>\n",
       "      <td>2</td>\n",
       "      <td>80586.36</td>\n",
       "    </tr>\n",
       "    <tr>\n",
       "      <th>240</th>\n",
       "      <td>1</td>\n",
       "      <td>3</td>\n",
       "      <td>1</td>\n",
       "      <td>2937</td>\n",
       "      <td>588</td>\n",
       "      <td>25</td>\n",
       "      <td>2</td>\n",
       "      <td>81553.49</td>\n",
       "    </tr>\n",
       "    <tr>\n",
       "      <th>...</th>\n",
       "      <td>...</td>\n",
       "      <td>...</td>\n",
       "      <td>...</td>\n",
       "      <td>...</td>\n",
       "      <td>...</td>\n",
       "      <td>...</td>\n",
       "      <td>...</td>\n",
       "      <td>...</td>\n",
       "    </tr>\n",
       "    <tr>\n",
       "      <th>17971</th>\n",
       "      <td>0</td>\n",
       "      <td>2</td>\n",
       "      <td>1</td>\n",
       "      <td>4485</td>\n",
       "      <td>222</td>\n",
       "      <td>47</td>\n",
       "      <td>2</td>\n",
       "      <td>92180.92</td>\n",
       "    </tr>\n",
       "    <tr>\n",
       "      <th>17980</th>\n",
       "      <td>0</td>\n",
       "      <td>0</td>\n",
       "      <td>1</td>\n",
       "      <td>2883</td>\n",
       "      <td>342</td>\n",
       "      <td>44</td>\n",
       "      <td>2</td>\n",
       "      <td>82032.98</td>\n",
       "    </tr>\n",
       "    <tr>\n",
       "      <th>18054</th>\n",
       "      <td>1</td>\n",
       "      <td>1</td>\n",
       "      <td>1</td>\n",
       "      <td>3104</td>\n",
       "      <td>51</td>\n",
       "      <td>24</td>\n",
       "      <td>2</td>\n",
       "      <td>83210.88</td>\n",
       "    </tr>\n",
       "    <tr>\n",
       "      <th>18094</th>\n",
       "      <td>0</td>\n",
       "      <td>4</td>\n",
       "      <td>1</td>\n",
       "      <td>3092</td>\n",
       "      <td>608</td>\n",
       "      <td>30</td>\n",
       "      <td>2</td>\n",
       "      <td>81343.61</td>\n",
       "    </tr>\n",
       "    <tr>\n",
       "      <th>18167</th>\n",
       "      <td>0</td>\n",
       "      <td>0</td>\n",
       "      <td>1</td>\n",
       "      <td>2577</td>\n",
       "      <td>334</td>\n",
       "      <td>17</td>\n",
       "      <td>2</td>\n",
       "      <td>83875.49</td>\n",
       "    </tr>\n",
       "  </tbody>\n",
       "</table>\n",
       "<p>264 rows × 8 columns</p>\n",
       "</div>"
      ],
      "text/plain": [
       "       brand  country  currency  customers_per_day  outlet_id  week_id  \\\n",
       "10         1        4         1               3143        601       49   \n",
       "17         1        0         1               2759        333       12   \n",
       "124        0        6         0               3266        477       47   \n",
       "179        0        4         1               2948        608       37   \n",
       "240        1        3         1               2937        588       25   \n",
       "...      ...      ...       ...                ...        ...      ...   \n",
       "17971      0        2         1               4485        222       47   \n",
       "17980      0        0         1               2883        342       44   \n",
       "18054      1        1         1               3104         51       24   \n",
       "18094      0        4         1               3092        608       30   \n",
       "18167      0        0         1               2577        334       17   \n",
       "\n",
       "       weekday  sales_per_day  \n",
       "10           2       81088.06  \n",
       "17           2       81221.75  \n",
       "124          2       84944.66  \n",
       "179          2       80586.36  \n",
       "240          2       81553.49  \n",
       "...        ...            ...  \n",
       "17971        2       92180.92  \n",
       "17980        2       82032.98  \n",
       "18054        2       83210.88  \n",
       "18094        2       81343.61  \n",
       "18167        2       83875.49  \n",
       "\n",
       "[264 rows x 8 columns]"
      ]
     },
     "execution_count": 50,
     "metadata": {},
     "output_type": "execute_result"
    }
   ],
   "source": [
    "Q1 = np.percentile(df['sales_per_day'], 25)\n",
    "Q3 = np.percentile(df['sales_per_day'], 75)\n",
    "IQR = Q3 - Q1\n",
    "\n",
    "Lower_tail = Q1 - 1.5 * IQR\n",
    "Upper_tail = Q3 + 1.5 * IQR\n",
    "\n",
    "df[df['sales_per_day']>Upper_tail]"
   ]
  },
  {
   "cell_type": "code",
   "execution_count": 52,
   "metadata": {},
   "outputs": [
    {
     "data": {
      "text/html": [
       "<div>\n",
       "<style scoped>\n",
       "    .dataframe tbody tr th:only-of-type {\n",
       "        vertical-align: middle;\n",
       "    }\n",
       "\n",
       "    .dataframe tbody tr th {\n",
       "        vertical-align: top;\n",
       "    }\n",
       "\n",
       "    .dataframe thead th {\n",
       "        text-align: right;\n",
       "    }\n",
       "</style>\n",
       "<table border=\"1\" class=\"dataframe\">\n",
       "  <thead>\n",
       "    <tr style=\"text-align: right;\">\n",
       "      <th></th>\n",
       "      <th>brand</th>\n",
       "      <th>country</th>\n",
       "      <th>currency</th>\n",
       "      <th>customers_per_day</th>\n",
       "      <th>outlet_id</th>\n",
       "      <th>week_id</th>\n",
       "      <th>weekday</th>\n",
       "      <th>sales_per_day</th>\n",
       "    </tr>\n",
       "  </thead>\n",
       "  <tbody>\n",
       "    <tr>\n",
       "      <th>7</th>\n",
       "      <td>0</td>\n",
       "      <td>0</td>\n",
       "      <td>1</td>\n",
       "      <td>2028</td>\n",
       "      <td>342</td>\n",
       "      <td>36</td>\n",
       "      <td>2</td>\n",
       "      <td>0.00</td>\n",
       "    </tr>\n",
       "    <tr>\n",
       "      <th>1241</th>\n",
       "      <td>0</td>\n",
       "      <td>1</td>\n",
       "      <td>1</td>\n",
       "      <td>0</td>\n",
       "      <td>52</td>\n",
       "      <td>26</td>\n",
       "      <td>3</td>\n",
       "      <td>0.00</td>\n",
       "    </tr>\n",
       "    <tr>\n",
       "      <th>1388</th>\n",
       "      <td>0</td>\n",
       "      <td>0</td>\n",
       "      <td>1</td>\n",
       "      <td>0</td>\n",
       "      <td>363</td>\n",
       "      <td>20</td>\n",
       "      <td>3</td>\n",
       "      <td>0.00</td>\n",
       "    </tr>\n",
       "    <tr>\n",
       "      <th>2009</th>\n",
       "      <td>1</td>\n",
       "      <td>5</td>\n",
       "      <td>1</td>\n",
       "      <td>420</td>\n",
       "      <td>187</td>\n",
       "      <td>23</td>\n",
       "      <td>1</td>\n",
       "      <td>0.00</td>\n",
       "    </tr>\n",
       "    <tr>\n",
       "      <th>2323</th>\n",
       "      <td>0</td>\n",
       "      <td>5</td>\n",
       "      <td>1</td>\n",
       "      <td>493</td>\n",
       "      <td>142</td>\n",
       "      <td>7</td>\n",
       "      <td>4</td>\n",
       "      <td>36881.67</td>\n",
       "    </tr>\n",
       "    <tr>\n",
       "      <th>2671</th>\n",
       "      <td>0</td>\n",
       "      <td>4</td>\n",
       "      <td>1</td>\n",
       "      <td>429</td>\n",
       "      <td>645</td>\n",
       "      <td>35</td>\n",
       "      <td>4</td>\n",
       "      <td>0.00</td>\n",
       "    </tr>\n",
       "    <tr>\n",
       "      <th>2729</th>\n",
       "      <td>0</td>\n",
       "      <td>0</td>\n",
       "      <td>1</td>\n",
       "      <td>0</td>\n",
       "      <td>339</td>\n",
       "      <td>9</td>\n",
       "      <td>3</td>\n",
       "      <td>0.00</td>\n",
       "    </tr>\n",
       "    <tr>\n",
       "      <th>3938</th>\n",
       "      <td>0</td>\n",
       "      <td>4</td>\n",
       "      <td>1</td>\n",
       "      <td>374</td>\n",
       "      <td>608</td>\n",
       "      <td>4</td>\n",
       "      <td>4</td>\n",
       "      <td>37173.73</td>\n",
       "    </tr>\n",
       "    <tr>\n",
       "      <th>4269</th>\n",
       "      <td>0</td>\n",
       "      <td>1</td>\n",
       "      <td>1</td>\n",
       "      <td>1250</td>\n",
       "      <td>56</td>\n",
       "      <td>41</td>\n",
       "      <td>5</td>\n",
       "      <td>0.00</td>\n",
       "    </tr>\n",
       "    <tr>\n",
       "      <th>5062</th>\n",
       "      <td>0</td>\n",
       "      <td>5</td>\n",
       "      <td>1</td>\n",
       "      <td>512</td>\n",
       "      <td>164</td>\n",
       "      <td>23</td>\n",
       "      <td>4</td>\n",
       "      <td>37843.69</td>\n",
       "    </tr>\n",
       "    <tr>\n",
       "      <th>8173</th>\n",
       "      <td>1</td>\n",
       "      <td>5</td>\n",
       "      <td>1</td>\n",
       "      <td>0</td>\n",
       "      <td>187</td>\n",
       "      <td>4</td>\n",
       "      <td>3</td>\n",
       "      <td>0.00</td>\n",
       "    </tr>\n",
       "    <tr>\n",
       "      <th>9293</th>\n",
       "      <td>1</td>\n",
       "      <td>1</td>\n",
       "      <td>1</td>\n",
       "      <td>434</td>\n",
       "      <td>51</td>\n",
       "      <td>24</td>\n",
       "      <td>3</td>\n",
       "      <td>38557.68</td>\n",
       "    </tr>\n",
       "    <tr>\n",
       "      <th>9401</th>\n",
       "      <td>0</td>\n",
       "      <td>1</td>\n",
       "      <td>1</td>\n",
       "      <td>213</td>\n",
       "      <td>142</td>\n",
       "      <td>44</td>\n",
       "      <td>1</td>\n",
       "      <td>36364.44</td>\n",
       "    </tr>\n",
       "    <tr>\n",
       "      <th>10473</th>\n",
       "      <td>1</td>\n",
       "      <td>5</td>\n",
       "      <td>1</td>\n",
       "      <td>405</td>\n",
       "      <td>112</td>\n",
       "      <td>15</td>\n",
       "      <td>4</td>\n",
       "      <td>38114.93</td>\n",
       "    </tr>\n",
       "    <tr>\n",
       "      <th>10502</th>\n",
       "      <td>1</td>\n",
       "      <td>1</td>\n",
       "      <td>1</td>\n",
       "      <td>1996</td>\n",
       "      <td>51</td>\n",
       "      <td>33</td>\n",
       "      <td>0</td>\n",
       "      <td>0.00</td>\n",
       "    </tr>\n",
       "    <tr>\n",
       "      <th>13006</th>\n",
       "      <td>1</td>\n",
       "      <td>4</td>\n",
       "      <td>1</td>\n",
       "      <td>324</td>\n",
       "      <td>601</td>\n",
       "      <td>36</td>\n",
       "      <td>3</td>\n",
       "      <td>0.00</td>\n",
       "    </tr>\n",
       "    <tr>\n",
       "      <th>13315</th>\n",
       "      <td>1</td>\n",
       "      <td>4</td>\n",
       "      <td>1</td>\n",
       "      <td>390</td>\n",
       "      <td>698</td>\n",
       "      <td>7</td>\n",
       "      <td>1</td>\n",
       "      <td>37432.63</td>\n",
       "    </tr>\n",
       "    <tr>\n",
       "      <th>13540</th>\n",
       "      <td>0</td>\n",
       "      <td>1</td>\n",
       "      <td>1</td>\n",
       "      <td>0</td>\n",
       "      <td>56</td>\n",
       "      <td>12</td>\n",
       "      <td>3</td>\n",
       "      <td>0.00</td>\n",
       "    </tr>\n",
       "    <tr>\n",
       "      <th>14141</th>\n",
       "      <td>0</td>\n",
       "      <td>3</td>\n",
       "      <td>1</td>\n",
       "      <td>344</td>\n",
       "      <td>598</td>\n",
       "      <td>6</td>\n",
       "      <td>4</td>\n",
       "      <td>38256.83</td>\n",
       "    </tr>\n",
       "    <tr>\n",
       "      <th>14617</th>\n",
       "      <td>0</td>\n",
       "      <td>4</td>\n",
       "      <td>1</td>\n",
       "      <td>0</td>\n",
       "      <td>645</td>\n",
       "      <td>5</td>\n",
       "      <td>3</td>\n",
       "      <td>0.00</td>\n",
       "    </tr>\n",
       "    <tr>\n",
       "      <th>15026</th>\n",
       "      <td>0</td>\n",
       "      <td>6</td>\n",
       "      <td>0</td>\n",
       "      <td>0</td>\n",
       "      <td>421</td>\n",
       "      <td>49</td>\n",
       "      <td>3</td>\n",
       "      <td>0.00</td>\n",
       "    </tr>\n",
       "    <tr>\n",
       "      <th>15114</th>\n",
       "      <td>0</td>\n",
       "      <td>0</td>\n",
       "      <td>1</td>\n",
       "      <td>442</td>\n",
       "      <td>334</td>\n",
       "      <td>21</td>\n",
       "      <td>4</td>\n",
       "      <td>38207.95</td>\n",
       "    </tr>\n",
       "  </tbody>\n",
       "</table>\n",
       "</div>"
      ],
      "text/plain": [
       "       brand  country  currency  customers_per_day  outlet_id  week_id  \\\n",
       "7          0        0         1               2028        342       36   \n",
       "1241       0        1         1                  0         52       26   \n",
       "1388       0        0         1                  0        363       20   \n",
       "2009       1        5         1                420        187       23   \n",
       "2323       0        5         1                493        142        7   \n",
       "2671       0        4         1                429        645       35   \n",
       "2729       0        0         1                  0        339        9   \n",
       "3938       0        4         1                374        608        4   \n",
       "4269       0        1         1               1250         56       41   \n",
       "5062       0        5         1                512        164       23   \n",
       "8173       1        5         1                  0        187        4   \n",
       "9293       1        1         1                434         51       24   \n",
       "9401       0        1         1                213        142       44   \n",
       "10473      1        5         1                405        112       15   \n",
       "10502      1        1         1               1996         51       33   \n",
       "13006      1        4         1                324        601       36   \n",
       "13315      1        4         1                390        698        7   \n",
       "13540      0        1         1                  0         56       12   \n",
       "14141      0        3         1                344        598        6   \n",
       "14617      0        4         1                  0        645        5   \n",
       "15026      0        6         0                  0        421       49   \n",
       "15114      0        0         1                442        334       21   \n",
       "\n",
       "       weekday  sales_per_day  \n",
       "7            2           0.00  \n",
       "1241         3           0.00  \n",
       "1388         3           0.00  \n",
       "2009         1           0.00  \n",
       "2323         4       36881.67  \n",
       "2671         4           0.00  \n",
       "2729         3           0.00  \n",
       "3938         4       37173.73  \n",
       "4269         5           0.00  \n",
       "5062         4       37843.69  \n",
       "8173         3           0.00  \n",
       "9293         3       38557.68  \n",
       "9401         1       36364.44  \n",
       "10473        4       38114.93  \n",
       "10502        0           0.00  \n",
       "13006        3           0.00  \n",
       "13315        1       37432.63  \n",
       "13540        3           0.00  \n",
       "14141        4       38256.83  \n",
       "14617        3           0.00  \n",
       "15026        3           0.00  \n",
       "15114        4       38207.95  "
      ]
     },
     "execution_count": 52,
     "metadata": {},
     "output_type": "execute_result"
    }
   ],
   "source": [
    "df[df['sales_per_day']<Lower_tail]"
   ]
  },
  {
   "cell_type": "code",
   "execution_count": 55,
   "metadata": {},
   "outputs": [
    {
     "data": {
      "text/html": [
       "<div>\n",
       "<style scoped>\n",
       "    .dataframe tbody tr th:only-of-type {\n",
       "        vertical-align: middle;\n",
       "    }\n",
       "\n",
       "    .dataframe tbody tr th {\n",
       "        vertical-align: top;\n",
       "    }\n",
       "\n",
       "    .dataframe thead th {\n",
       "        text-align: right;\n",
       "    }\n",
       "</style>\n",
       "<table border=\"1\" class=\"dataframe\">\n",
       "  <thead>\n",
       "    <tr style=\"text-align: right;\">\n",
       "      <th></th>\n",
       "      <th>brand</th>\n",
       "      <th>country</th>\n",
       "      <th>currency</th>\n",
       "      <th>customers_per_day</th>\n",
       "      <th>outlet_id</th>\n",
       "      <th>week_id</th>\n",
       "      <th>weekday</th>\n",
       "      <th>sales_per_day</th>\n",
       "    </tr>\n",
       "  </thead>\n",
       "  <tbody>\n",
       "    <tr>\n",
       "      <th>797</th>\n",
       "      <td>0</td>\n",
       "      <td>5</td>\n",
       "      <td>1</td>\n",
       "      <td>4007</td>\n",
       "      <td>164</td>\n",
       "      <td>47</td>\n",
       "      <td>2</td>\n",
       "      <td>82942.35</td>\n",
       "    </tr>\n",
       "    <tr>\n",
       "      <th>832</th>\n",
       "      <td>0</td>\n",
       "      <td>6</td>\n",
       "      <td>0</td>\n",
       "      <td>3797</td>\n",
       "      <td>477</td>\n",
       "      <td>49</td>\n",
       "      <td>2</td>\n",
       "      <td>83074.11</td>\n",
       "    </tr>\n",
       "    <tr>\n",
       "      <th>869</th>\n",
       "      <td>0</td>\n",
       "      <td>4</td>\n",
       "      <td>1</td>\n",
       "      <td>4208</td>\n",
       "      <td>608</td>\n",
       "      <td>47</td>\n",
       "      <td>2</td>\n",
       "      <td>85635.36</td>\n",
       "    </tr>\n",
       "    <tr>\n",
       "      <th>870</th>\n",
       "      <td>0</td>\n",
       "      <td>6</td>\n",
       "      <td>0</td>\n",
       "      <td>4166</td>\n",
       "      <td>477</td>\n",
       "      <td>50</td>\n",
       "      <td>2</td>\n",
       "      <td>86891.02</td>\n",
       "    </tr>\n",
       "    <tr>\n",
       "      <th>1192</th>\n",
       "      <td>0</td>\n",
       "      <td>2</td>\n",
       "      <td>1</td>\n",
       "      <td>4089</td>\n",
       "      <td>234</td>\n",
       "      <td>49</td>\n",
       "      <td>2</td>\n",
       "      <td>88442.20</td>\n",
       "    </tr>\n",
       "    <tr>\n",
       "      <th>...</th>\n",
       "      <td>...</td>\n",
       "      <td>...</td>\n",
       "      <td>...</td>\n",
       "      <td>...</td>\n",
       "      <td>...</td>\n",
       "      <td>...</td>\n",
       "      <td>...</td>\n",
       "      <td>...</td>\n",
       "    </tr>\n",
       "    <tr>\n",
       "      <th>16887</th>\n",
       "      <td>0</td>\n",
       "      <td>1</td>\n",
       "      <td>1</td>\n",
       "      <td>3806</td>\n",
       "      <td>79</td>\n",
       "      <td>52</td>\n",
       "      <td>2</td>\n",
       "      <td>74973.00</td>\n",
       "    </tr>\n",
       "    <tr>\n",
       "      <th>17379</th>\n",
       "      <td>1</td>\n",
       "      <td>5</td>\n",
       "      <td>1</td>\n",
       "      <td>4471</td>\n",
       "      <td>108</td>\n",
       "      <td>52</td>\n",
       "      <td>2</td>\n",
       "      <td>82694.21</td>\n",
       "    </tr>\n",
       "    <tr>\n",
       "      <th>17518</th>\n",
       "      <td>0</td>\n",
       "      <td>3</td>\n",
       "      <td>1</td>\n",
       "      <td>4086</td>\n",
       "      <td>555</td>\n",
       "      <td>48</td>\n",
       "      <td>2</td>\n",
       "      <td>90479.53</td>\n",
       "    </tr>\n",
       "    <tr>\n",
       "      <th>17920</th>\n",
       "      <td>1</td>\n",
       "      <td>4</td>\n",
       "      <td>1</td>\n",
       "      <td>4518</td>\n",
       "      <td>698</td>\n",
       "      <td>47</td>\n",
       "      <td>2</td>\n",
       "      <td>79971.59</td>\n",
       "    </tr>\n",
       "    <tr>\n",
       "      <th>17971</th>\n",
       "      <td>0</td>\n",
       "      <td>2</td>\n",
       "      <td>1</td>\n",
       "      <td>4485</td>\n",
       "      <td>222</td>\n",
       "      <td>47</td>\n",
       "      <td>2</td>\n",
       "      <td>92180.92</td>\n",
       "    </tr>\n",
       "  </tbody>\n",
       "</table>\n",
       "<p>94 rows × 8 columns</p>\n",
       "</div>"
      ],
      "text/plain": [
       "       brand  country  currency  customers_per_day  outlet_id  week_id  \\\n",
       "797        0        5         1               4007        164       47   \n",
       "832        0        6         0               3797        477       49   \n",
       "869        0        4         1               4208        608       47   \n",
       "870        0        6         0               4166        477       50   \n",
       "1192       0        2         1               4089        234       49   \n",
       "...      ...      ...       ...                ...        ...      ...   \n",
       "16887      0        1         1               3806         79       52   \n",
       "17379      1        5         1               4471        108       52   \n",
       "17518      0        3         1               4086        555       48   \n",
       "17920      1        4         1               4518        698       47   \n",
       "17971      0        2         1               4485        222       47   \n",
       "\n",
       "       weekday  sales_per_day  \n",
       "797          2       82942.35  \n",
       "832          2       83074.11  \n",
       "869          2       85635.36  \n",
       "870          2       86891.02  \n",
       "1192         2       88442.20  \n",
       "...        ...            ...  \n",
       "16887        2       74973.00  \n",
       "17379        2       82694.21  \n",
       "17518        2       90479.53  \n",
       "17920        2       79971.59  \n",
       "17971        2       92180.92  \n",
       "\n",
       "[94 rows x 8 columns]"
      ]
     },
     "execution_count": 55,
     "metadata": {},
     "output_type": "execute_result"
    }
   ],
   "source": [
    "# IQR\n",
    "Q1 = np.percentile(df['customers_per_day'], 25,\n",
    "                   interpolation = 'midpoint')\n",
    " \n",
    "Q3 = np.percentile(df['customers_per_day'], 75,\n",
    "                   interpolation = 'midpoint')\n",
    "IQR = Q3 - Q1\n",
    "\n",
    "\n",
    "Q1 = np.percentile(df['customers_per_day'], 25)\n",
    "Q3 = np.percentile(df['customers_per_day'], 75)\n",
    "IQR = Q3 - Q1\n",
    "\n",
    "Lower_tail = Q1 - 1.5 * IQR\n",
    "Upper_tail = Q3 + 1.5 * IQR\n",
    "\n",
    "df[df['customers_per_day']>Upper_tail]"
   ]
  },
  {
   "cell_type": "code",
   "execution_count": 56,
   "metadata": {},
   "outputs": [
    {
     "data": {
      "text/html": [
       "<div>\n",
       "<style scoped>\n",
       "    .dataframe tbody tr th:only-of-type {\n",
       "        vertical-align: middle;\n",
       "    }\n",
       "\n",
       "    .dataframe tbody tr th {\n",
       "        vertical-align: top;\n",
       "    }\n",
       "\n",
       "    .dataframe thead th {\n",
       "        text-align: right;\n",
       "    }\n",
       "</style>\n",
       "<table border=\"1\" class=\"dataframe\">\n",
       "  <thead>\n",
       "    <tr style=\"text-align: right;\">\n",
       "      <th></th>\n",
       "      <th>brand</th>\n",
       "      <th>country</th>\n",
       "      <th>currency</th>\n",
       "      <th>customers_per_day</th>\n",
       "      <th>outlet_id</th>\n",
       "      <th>week_id</th>\n",
       "      <th>weekday</th>\n",
       "      <th>sales_per_day</th>\n",
       "    </tr>\n",
       "  </thead>\n",
       "  <tbody>\n",
       "  </tbody>\n",
       "</table>\n",
       "</div>"
      ],
      "text/plain": [
       "Empty DataFrame\n",
       "Columns: [brand, country, currency, customers_per_day, outlet_id, week_id, weekday, sales_per_day]\n",
       "Index: []"
      ]
     },
     "execution_count": 56,
     "metadata": {},
     "output_type": "execute_result"
    }
   ],
   "source": [
    "df[df['customers_per_day']<Lower_tail]"
   ]
  },
  {
   "cell_type": "code",
   "execution_count": 57,
   "metadata": {},
   "outputs": [
    {
     "data": {
      "text/html": [
       "<div>\n",
       "<style scoped>\n",
       "    .dataframe tbody tr th:only-of-type {\n",
       "        vertical-align: middle;\n",
       "    }\n",
       "\n",
       "    .dataframe tbody tr th {\n",
       "        vertical-align: top;\n",
       "    }\n",
       "\n",
       "    .dataframe thead th {\n",
       "        text-align: right;\n",
       "    }\n",
       "</style>\n",
       "<table border=\"1\" class=\"dataframe\">\n",
       "  <thead>\n",
       "    <tr style=\"text-align: right;\">\n",
       "      <th></th>\n",
       "      <th>brand</th>\n",
       "      <th>country</th>\n",
       "      <th>currency</th>\n",
       "      <th>customers_per_day</th>\n",
       "      <th>outlet_id</th>\n",
       "      <th>week_id</th>\n",
       "      <th>weekday</th>\n",
       "      <th>sales_per_day</th>\n",
       "    </tr>\n",
       "  </thead>\n",
       "  <tbody>\n",
       "  </tbody>\n",
       "</table>\n",
       "</div>"
      ],
      "text/plain": [
       "Empty DataFrame\n",
       "Columns: [brand, country, currency, customers_per_day, outlet_id, week_id, weekday, sales_per_day]\n",
       "Index: []"
      ]
     },
     "execution_count": 57,
     "metadata": {},
     "output_type": "execute_result"
    }
   ],
   "source": [
    "# IQR\n",
    "Q1 = np.percentile(df['currency'], 25,\n",
    "                   interpolation = 'midpoint')\n",
    " \n",
    "Q3 = np.percentile(df['currency'], 75,\n",
    "                   interpolation = 'midpoint')\n",
    "IQR = Q3 - Q1\n",
    "\n",
    "\n",
    "Q1 = np.percentile(df['currency'], 25)\n",
    "Q3 = np.percentile(df['currency'], 75)\n",
    "IQR = Q3 - Q1\n",
    "\n",
    "Lower_tail = Q1 - 1.5 * IQR\n",
    "Upper_tail = Q3 + 1.5 * IQR\n",
    "\n",
    "df[df['currency']>Upper_tail]"
   ]
  },
  {
   "cell_type": "code",
   "execution_count": 58,
   "metadata": {},
   "outputs": [
    {
     "data": {
      "text/html": [
       "<div>\n",
       "<style scoped>\n",
       "    .dataframe tbody tr th:only-of-type {\n",
       "        vertical-align: middle;\n",
       "    }\n",
       "\n",
       "    .dataframe tbody tr th {\n",
       "        vertical-align: top;\n",
       "    }\n",
       "\n",
       "    .dataframe thead th {\n",
       "        text-align: right;\n",
       "    }\n",
       "</style>\n",
       "<table border=\"1\" class=\"dataframe\">\n",
       "  <thead>\n",
       "    <tr style=\"text-align: right;\">\n",
       "      <th></th>\n",
       "      <th>brand</th>\n",
       "      <th>country</th>\n",
       "      <th>currency</th>\n",
       "      <th>customers_per_day</th>\n",
       "      <th>outlet_id</th>\n",
       "      <th>week_id</th>\n",
       "      <th>weekday</th>\n",
       "      <th>sales_per_day</th>\n",
       "    </tr>\n",
       "  </thead>\n",
       "  <tbody>\n",
       "    <tr>\n",
       "      <th>9</th>\n",
       "      <td>0</td>\n",
       "      <td>6</td>\n",
       "      <td>0</td>\n",
       "      <td>266</td>\n",
       "      <td>477</td>\n",
       "      <td>10</td>\n",
       "      <td>1</td>\n",
       "      <td>51922.36</td>\n",
       "    </tr>\n",
       "    <tr>\n",
       "      <th>73</th>\n",
       "      <td>0</td>\n",
       "      <td>6</td>\n",
       "      <td>0</td>\n",
       "      <td>2237</td>\n",
       "      <td>408</td>\n",
       "      <td>38</td>\n",
       "      <td>0</td>\n",
       "      <td>64555.76</td>\n",
       "    </tr>\n",
       "    <tr>\n",
       "      <th>124</th>\n",
       "      <td>0</td>\n",
       "      <td>6</td>\n",
       "      <td>0</td>\n",
       "      <td>3266</td>\n",
       "      <td>477</td>\n",
       "      <td>47</td>\n",
       "      <td>2</td>\n",
       "      <td>84944.66</td>\n",
       "    </tr>\n",
       "    <tr>\n",
       "      <th>125</th>\n",
       "      <td>0</td>\n",
       "      <td>6</td>\n",
       "      <td>0</td>\n",
       "      <td>2700</td>\n",
       "      <td>408</td>\n",
       "      <td>48</td>\n",
       "      <td>0</td>\n",
       "      <td>71086.94</td>\n",
       "    </tr>\n",
       "    <tr>\n",
       "      <th>158</th>\n",
       "      <td>0</td>\n",
       "      <td>6</td>\n",
       "      <td>0</td>\n",
       "      <td>1715</td>\n",
       "      <td>408</td>\n",
       "      <td>17</td>\n",
       "      <td>2</td>\n",
       "      <td>67137.58</td>\n",
       "    </tr>\n",
       "    <tr>\n",
       "      <th>...</th>\n",
       "      <td>...</td>\n",
       "      <td>...</td>\n",
       "      <td>...</td>\n",
       "      <td>...</td>\n",
       "      <td>...</td>\n",
       "      <td>...</td>\n",
       "      <td>...</td>\n",
       "      <td>...</td>\n",
       "    </tr>\n",
       "    <tr>\n",
       "      <th>18087</th>\n",
       "      <td>0</td>\n",
       "      <td>6</td>\n",
       "      <td>0</td>\n",
       "      <td>498</td>\n",
       "      <td>421</td>\n",
       "      <td>48</td>\n",
       "      <td>3</td>\n",
       "      <td>66234.75</td>\n",
       "    </tr>\n",
       "    <tr>\n",
       "      <th>18151</th>\n",
       "      <td>0</td>\n",
       "      <td>6</td>\n",
       "      <td>0</td>\n",
       "      <td>2258</td>\n",
       "      <td>421</td>\n",
       "      <td>19</td>\n",
       "      <td>0</td>\n",
       "      <td>57817.44</td>\n",
       "    </tr>\n",
       "    <tr>\n",
       "      <th>18159</th>\n",
       "      <td>0</td>\n",
       "      <td>6</td>\n",
       "      <td>0</td>\n",
       "      <td>795</td>\n",
       "      <td>477</td>\n",
       "      <td>16</td>\n",
       "      <td>5</td>\n",
       "      <td>60481.97</td>\n",
       "    </tr>\n",
       "    <tr>\n",
       "      <th>18173</th>\n",
       "      <td>0</td>\n",
       "      <td>6</td>\n",
       "      <td>0</td>\n",
       "      <td>364</td>\n",
       "      <td>477</td>\n",
       "      <td>21</td>\n",
       "      <td>4</td>\n",
       "      <td>51710.10</td>\n",
       "    </tr>\n",
       "    <tr>\n",
       "      <th>18188</th>\n",
       "      <td>0</td>\n",
       "      <td>6</td>\n",
       "      <td>0</td>\n",
       "      <td>515</td>\n",
       "      <td>408</td>\n",
       "      <td>35</td>\n",
       "      <td>3</td>\n",
       "      <td>60861.38</td>\n",
       "    </tr>\n",
       "  </tbody>\n",
       "</table>\n",
       "<p>916 rows × 8 columns</p>\n",
       "</div>"
      ],
      "text/plain": [
       "       brand  country  currency  customers_per_day  outlet_id  week_id  \\\n",
       "9          0        6         0                266        477       10   \n",
       "73         0        6         0               2237        408       38   \n",
       "124        0        6         0               3266        477       47   \n",
       "125        0        6         0               2700        408       48   \n",
       "158        0        6         0               1715        408       17   \n",
       "...      ...      ...       ...                ...        ...      ...   \n",
       "18087      0        6         0                498        421       48   \n",
       "18151      0        6         0               2258        421       19   \n",
       "18159      0        6         0                795        477       16   \n",
       "18173      0        6         0                364        477       21   \n",
       "18188      0        6         0                515        408       35   \n",
       "\n",
       "       weekday  sales_per_day  \n",
       "9            1       51922.36  \n",
       "73           0       64555.76  \n",
       "124          2       84944.66  \n",
       "125          0       71086.94  \n",
       "158          2       67137.58  \n",
       "...        ...            ...  \n",
       "18087        3       66234.75  \n",
       "18151        0       57817.44  \n",
       "18159        5       60481.97  \n",
       "18173        4       51710.10  \n",
       "18188        3       60861.38  \n",
       "\n",
       "[916 rows x 8 columns]"
      ]
     },
     "execution_count": 58,
     "metadata": {},
     "output_type": "execute_result"
    }
   ],
   "source": [
    "df[df['currency']<Lower_tail]"
   ]
  },
  {
   "cell_type": "code",
   "execution_count": 59,
   "metadata": {},
   "outputs": [
    {
     "data": {
      "text/html": [
       "<div>\n",
       "<style scoped>\n",
       "    .dataframe tbody tr th:only-of-type {\n",
       "        vertical-align: middle;\n",
       "    }\n",
       "\n",
       "    .dataframe tbody tr th {\n",
       "        vertical-align: top;\n",
       "    }\n",
       "\n",
       "    .dataframe thead th {\n",
       "        text-align: right;\n",
       "    }\n",
       "</style>\n",
       "<table border=\"1\" class=\"dataframe\">\n",
       "  <thead>\n",
       "    <tr style=\"text-align: right;\">\n",
       "      <th></th>\n",
       "      <th>brand</th>\n",
       "      <th>country</th>\n",
       "      <th>currency</th>\n",
       "      <th>customers_per_day</th>\n",
       "      <th>outlet_id</th>\n",
       "      <th>week_id</th>\n",
       "      <th>weekday</th>\n",
       "      <th>sales_per_day</th>\n",
       "    </tr>\n",
       "  </thead>\n",
       "  <tbody>\n",
       "    <tr>\n",
       "      <th>0</th>\n",
       "      <td>0</td>\n",
       "      <td>5</td>\n",
       "      <td>1</td>\n",
       "      <td>3138</td>\n",
       "      <td>100</td>\n",
       "      <td>34</td>\n",
       "      <td>2</td>\n",
       "      <td>72169.14</td>\n",
       "    </tr>\n",
       "    <tr>\n",
       "      <th>1</th>\n",
       "      <td>1</td>\n",
       "      <td>1</td>\n",
       "      <td>1</td>\n",
       "      <td>378</td>\n",
       "      <td>86</td>\n",
       "      <td>8</td>\n",
       "      <td>1</td>\n",
       "      <td>52825.62</td>\n",
       "    </tr>\n",
       "    <tr>\n",
       "      <th>2</th>\n",
       "      <td>0</td>\n",
       "      <td>3</td>\n",
       "      <td>1</td>\n",
       "      <td>379</td>\n",
       "      <td>530</td>\n",
       "      <td>28</td>\n",
       "      <td>3</td>\n",
       "      <td>53309.83</td>\n",
       "    </tr>\n",
       "    <tr>\n",
       "      <th>3</th>\n",
       "      <td>1</td>\n",
       "      <td>1</td>\n",
       "      <td>1</td>\n",
       "      <td>3050</td>\n",
       "      <td>17</td>\n",
       "      <td>47</td>\n",
       "      <td>2</td>\n",
       "      <td>74237.45</td>\n",
       "    </tr>\n",
       "    <tr>\n",
       "      <th>4</th>\n",
       "      <td>0</td>\n",
       "      <td>5</td>\n",
       "      <td>1</td>\n",
       "      <td>548</td>\n",
       "      <td>164</td>\n",
       "      <td>7</td>\n",
       "      <td>4</td>\n",
       "      <td>56621.61</td>\n",
       "    </tr>\n",
       "  </tbody>\n",
       "</table>\n",
       "</div>"
      ],
      "text/plain": [
       "   brand  country  currency  customers_per_day  outlet_id  week_id  weekday  \\\n",
       "0      0        5         1               3138        100       34        2   \n",
       "1      1        1         1                378         86        8        1   \n",
       "2      0        3         1                379        530       28        3   \n",
       "3      1        1         1               3050         17       47        2   \n",
       "4      0        5         1                548        164        7        4   \n",
       "\n",
       "   sales_per_day  \n",
       "0       72169.14  \n",
       "1       52825.62  \n",
       "2       53309.83  \n",
       "3       74237.45  \n",
       "4       56621.61  "
      ]
     },
     "execution_count": 59,
     "metadata": {},
     "output_type": "execute_result"
    }
   ],
   "source": [
    "df.head(5)"
   ]
  },
  {
   "cell_type": "markdown",
   "metadata": {},
   "source": [
    "# Outlier Treatment"
   ]
  },
  {
   "cell_type": "code",
   "execution_count": 124,
   "metadata": {},
   "outputs": [
    {
     "data": {
      "image/png": "[encoded data removed]",
      "text/plain": [
       "<Figure size 864x432 with 1 Axes>"
      ]
     },
     "metadata": {
      "needs_background": "light"
     },
     "output_type": "display_data"
    },
    {
     "data": {
      "image/png": "[encoded data removed]",
      "text/plain": [
       "<Figure size 864x432 with 1 Axes>"
      ]
     },
     "metadata": {
      "needs_background": "light"
     },
     "output_type": "display_data"
    }
   ],
   "source": [
    "sns.boxplot(df['customers_per_day'])\n",
    "plt.title(\"Box Plot before median imputation\")\n",
    "plt.show()\n",
    "q1 = df['customers_per_day'].quantile(0.25)\n",
    "q3 = df['customers_per_day'].quantile(0.75)\n",
    "iqr = q3-q1\n",
    "Lower_tail = q1 - 1.5 * iqr\n",
    "Upper_tail = q3 + 1.5 * iqr\n",
    "med = np.median(df['customers_per_day'])\n",
    "for i in df['customers_per_day']:\n",
    "    if i > Upper_tail or i < Lower_tail:\n",
    "            df['customers_per_day'] = df['customers_per_day'].replace(i, med)\n",
    "sns.boxplot(df['customers_per_day'])\n",
    "plt.title(\"Box Plot after median imputation\")\n",
    "plt.show()"
   ]
  },
  {
   "cell_type": "code",
   "execution_count": 59,
   "metadata": {},
   "outputs": [
    {
     "data": {
      "text/html": [
       "<div>\n",
       "<style scoped>\n",
       "    .dataframe tbody tr th:only-of-type {\n",
       "        vertical-align: middle;\n",
       "    }\n",
       "\n",
       "    .dataframe tbody tr th {\n",
       "        vertical-align: top;\n",
       "    }\n",
       "\n",
       "    .dataframe thead th {\n",
       "        text-align: right;\n",
       "    }\n",
       "</style>\n",
       "<table border=\"1\" class=\"dataframe\">\n",
       "  <thead>\n",
       "    <tr style=\"text-align: right;\">\n",
       "      <th></th>\n",
       "      <th>brand</th>\n",
       "      <th>country</th>\n",
       "      <th>currency</th>\n",
       "      <th>customers_per_day</th>\n",
       "      <th>outlet_id</th>\n",
       "      <th>week_id</th>\n",
       "      <th>weekday</th>\n",
       "      <th>sales_per_day</th>\n",
       "    </tr>\n",
       "  </thead>\n",
       "  <tbody>\n",
       "    <tr>\n",
       "      <th>0</th>\n",
       "      <td>0</td>\n",
       "      <td>5</td>\n",
       "      <td>1</td>\n",
       "      <td>3138</td>\n",
       "      <td>100</td>\n",
       "      <td>34</td>\n",
       "      <td>2</td>\n",
       "      <td>72169.14</td>\n",
       "    </tr>\n",
       "    <tr>\n",
       "      <th>1</th>\n",
       "      <td>1</td>\n",
       "      <td>1</td>\n",
       "      <td>1</td>\n",
       "      <td>378</td>\n",
       "      <td>86</td>\n",
       "      <td>8</td>\n",
       "      <td>1</td>\n",
       "      <td>52825.62</td>\n",
       "    </tr>\n",
       "    <tr>\n",
       "      <th>2</th>\n",
       "      <td>0</td>\n",
       "      <td>3</td>\n",
       "      <td>1</td>\n",
       "      <td>379</td>\n",
       "      <td>530</td>\n",
       "      <td>28</td>\n",
       "      <td>3</td>\n",
       "      <td>53309.83</td>\n",
       "    </tr>\n",
       "    <tr>\n",
       "      <th>3</th>\n",
       "      <td>1</td>\n",
       "      <td>1</td>\n",
       "      <td>1</td>\n",
       "      <td>3050</td>\n",
       "      <td>17</td>\n",
       "      <td>47</td>\n",
       "      <td>2</td>\n",
       "      <td>74237.45</td>\n",
       "    </tr>\n",
       "    <tr>\n",
       "      <th>4</th>\n",
       "      <td>0</td>\n",
       "      <td>5</td>\n",
       "      <td>1</td>\n",
       "      <td>548</td>\n",
       "      <td>164</td>\n",
       "      <td>7</td>\n",
       "      <td>4</td>\n",
       "      <td>56621.61</td>\n",
       "    </tr>\n",
       "  </tbody>\n",
       "</table>\n",
       "</div>"
      ],
      "text/plain": [
       "   brand  country  currency  customers_per_day  outlet_id  week_id  weekday  \\\n",
       "0      0        5         1               3138        100       34        2   \n",
       "1      1        1         1                378         86        8        1   \n",
       "2      0        3         1                379        530       28        3   \n",
       "3      1        1         1               3050         17       47        2   \n",
       "4      0        5         1                548        164        7        4   \n",
       "\n",
       "   sales_per_day  \n",
       "0       72169.14  \n",
       "1       52825.62  \n",
       "2       53309.83  \n",
       "3       74237.45  \n",
       "4       56621.61  "
      ]
     },
     "execution_count": 59,
     "metadata": {},
     "output_type": "execute_result"
    }
   ],
   "source": [
    "df.head()"
   ]
  },
  {
   "cell_type": "code",
   "execution_count": null,
   "metadata": {},
   "outputs": [],
   "source": [
    "df['customers_per_day'] = np.log(df['customers_per_day'])\n",
    "\n",
    "df.hist('customers_per_day',figsize=(8,5))\n",
    "\n",
    "plt.xlabel(\"log(customers_per_day)\")"
   ]
  },
  {
   "cell_type": "code",
   "execution_count": 70,
   "metadata": {},
   "outputs": [
    {
     "data": {
      "text/plain": [
       "<AxesSubplot:xlabel='sales_per_day'>"
      ]
     },
     "execution_count": 70,
     "metadata": {},
     "output_type": "execute_result"
    },
    {
     "data": {
      "image/png": "[encoded data removed]",
      "text/plain": [
       "<Figure size 432x288 with 1 Axes>"
      ]
     },
     "metadata": {
      "needs_background": "light"
     },
     "output_type": "display_data"
    }
   ],
   "source": [
    "sns.boxplot(df['sales_per_day'])"
   ]
  },
  {
   "cell_type": "markdown",
   "metadata": {},
   "source": [
    "# Feature Selection"
   ]
  },
  {
   "cell_type": "code",
   "execution_count": 84,
   "metadata": {},
   "outputs": [
    {
     "data": {
      "text/plain": [
       "<AxesSubplot:>"
      ]
     },
     "execution_count": 84,
     "metadata": {},
     "output_type": "execute_result"
    },
    {
     "data": {
      "image/png": "[encoded data removed]",
      "text/plain": [
       "<Figure size 720x432 with 2 Axes>"
      ]
     },
     "metadata": {
      "needs_background": "light"
     },
     "output_type": "display_data"
    }
   ],
   "source": [
    "#correlation matrix\n",
    "cor=df.corr()\n",
    "\n",
    "#Plotting heatmap\n",
    "plt.figure(figsize=(10,6))\n",
    "sns.heatmap(cor,annot = True)"
   ]
  },
  {
   "cell_type": "markdown",
   "metadata": {},
   "source": [
    "Observation:\n",
    "Say 0.5 as the threshold for selecting the variables, here we find that customers_per_day is correlated with target variable sales_per_day.\n",
    "Country and Currency are negatively correlated to each other\n"
   ]
  },
  {
   "cell_type": "code",
   "execution_count": null,
   "metadata": {},
   "outputs": [],
   "source": []
  },
  {
   "cell_type": "code",
   "execution_count": 2,
   "metadata": {},
   "outputs": [],
   "source": [
    "# TODO ... Python coding ... "
   ]
  },
  {
   "cell_type": "code",
   "execution_count": null,
   "metadata": {},
   "outputs": [],
   "source": [
    "#model_1 using LinearRegression"
   ]
  },
  {
   "cell_type": "code",
   "execution_count": 85,
   "metadata": {},
   "outputs": [],
   "source": [
    "#DEFINE X AND Y\n",
    "X=df.drop(['sales_per_day'],axis=1)\n",
    "y=df['sales_per_day']\n",
    "\n",
    "#Split data into train and test\n",
    "X_train,X_test,y_train,y_test=train_test_split(X,y,test_size=0.2,random_state=3)\n"
   ]
  },
  {
   "cell_type": "code",
   "execution_count": 95,
   "metadata": {},
   "outputs": [
    {
     "data": {
      "text/html": [
       "<div>\n",
       "<style scoped>\n",
       "    .dataframe tbody tr th:only-of-type {\n",
       "        vertical-align: middle;\n",
       "    }\n",
       "\n",
       "    .dataframe tbody tr th {\n",
       "        vertical-align: top;\n",
       "    }\n",
       "\n",
       "    .dataframe thead th {\n",
       "        text-align: right;\n",
       "    }\n",
       "</style>\n",
       "<table border=\"1\" class=\"dataframe\">\n",
       "  <thead>\n",
       "    <tr style=\"text-align: right;\">\n",
       "      <th></th>\n",
       "      <th>brand</th>\n",
       "      <th>country</th>\n",
       "      <th>currency</th>\n",
       "      <th>customers_per_day</th>\n",
       "      <th>outlet_id</th>\n",
       "      <th>week_id</th>\n",
       "      <th>weekday</th>\n",
       "    </tr>\n",
       "  </thead>\n",
       "  <tbody>\n",
       "    <tr>\n",
       "      <th>15648</th>\n",
       "      <td>0</td>\n",
       "      <td>1</td>\n",
       "      <td>1</td>\n",
       "      <td>334</td>\n",
       "      <td>6</td>\n",
       "      <td>20</td>\n",
       "      <td>3</td>\n",
       "    </tr>\n",
       "    <tr>\n",
       "      <th>8236</th>\n",
       "      <td>1</td>\n",
       "      <td>5</td>\n",
       "      <td>1</td>\n",
       "      <td>345</td>\n",
       "      <td>21</td>\n",
       "      <td>35</td>\n",
       "      <td>4</td>\n",
       "    </tr>\n",
       "    <tr>\n",
       "      <th>3444</th>\n",
       "      <td>1</td>\n",
       "      <td>1</td>\n",
       "      <td>1</td>\n",
       "      <td>2319</td>\n",
       "      <td>11</td>\n",
       "      <td>46</td>\n",
       "      <td>0</td>\n",
       "    </tr>\n",
       "    <tr>\n",
       "      <th>15992</th>\n",
       "      <td>0</td>\n",
       "      <td>5</td>\n",
       "      <td>1</td>\n",
       "      <td>341</td>\n",
       "      <td>19</td>\n",
       "      <td>24</td>\n",
       "      <td>3</td>\n",
       "    </tr>\n",
       "    <tr>\n",
       "      <th>2400</th>\n",
       "      <td>0</td>\n",
       "      <td>3</td>\n",
       "      <td>1</td>\n",
       "      <td>587</td>\n",
       "      <td>44</td>\n",
       "      <td>2</td>\n",
       "      <td>4</td>\n",
       "    </tr>\n",
       "  </tbody>\n",
       "</table>\n",
       "</div>"
      ],
      "text/plain": [
       "       brand  country  currency  customers_per_day  outlet_id  week_id  \\\n",
       "15648      0        1         1                334          6       20   \n",
       "8236       1        5         1                345         21       35   \n",
       "3444       1        1         1               2319         11       46   \n",
       "15992      0        5         1                341         19       24   \n",
       "2400       0        3         1                587         44        2   \n",
       "\n",
       "       weekday  \n",
       "15648        3  \n",
       "8236         4  \n",
       "3444         0  \n",
       "15992        3  \n",
       "2400         4  "
      ]
     },
     "execution_count": 95,
     "metadata": {},
     "output_type": "execute_result"
    }
   ],
   "source": [
    "X_train.head()"
   ]
  },
  {
   "cell_type": "code",
   "execution_count": 92,
   "metadata": {},
   "outputs": [
    {
     "data": {
      "text/plain": [
       "(12482, 7)"
      ]
     },
     "execution_count": 92,
     "metadata": {},
     "output_type": "execute_result"
    }
   ],
   "source": [
    "X_train.shape"
   ]
  },
  {
   "cell_type": "code",
   "execution_count": 93,
   "metadata": {},
   "outputs": [
    {
     "data": {
      "text/plain": [
       "(3121, 7)"
      ]
     },
     "execution_count": 93,
     "metadata": {},
     "output_type": "execute_result"
    }
   ],
   "source": [
    "X_test.shape"
   ]
  },
  {
   "cell_type": "code",
   "execution_count": 94,
   "metadata": {},
   "outputs": [
    {
     "data": {
      "text/plain": [
       "(12482,)"
      ]
     },
     "execution_count": 94,
     "metadata": {},
     "output_type": "execute_result"
    }
   ],
   "source": [
    "y_train.shape"
   ]
  },
  {
   "cell_type": "code",
   "execution_count": 87,
   "metadata": {},
   "outputs": [],
   "source": [
    "reg_lin=LinearRegression()\n",
    "reg_lin.fit(X_train,y_train)\n",
    "reg_lin.score(X_train,y_train)\n",
    "y_preds_lin=reg_lin.predict(X_test)"
   ]
  },
  {
   "cell_type": "code",
   "execution_count": 96,
   "metadata": {},
   "outputs": [],
   "source": [
    "features = ['brand', 'country', 'currency','customers_per_day', 'outlet_id',\n",
    "       'week_id', 'weekday']"
   ]
  },
  {
   "cell_type": "code",
   "execution_count": 97,
   "metadata": {},
   "outputs": [
    {
     "data": {
      "text/plain": [
       "currency            -2169.641538\n",
       "country              -243.911454\n",
       "customers_per_day       6.939076\n",
       "outlet_id              14.203267\n",
       "week_id                55.696273\n",
       "brand                 416.423743\n",
       "weekday               844.988646\n",
       "dtype: float64"
      ]
     },
     "execution_count": 97,
     "metadata": {},
     "output_type": "execute_result"
    }
   ],
   "source": [
    "coef = pd.Series(reg_lin.coef_,features).sort_values()\n",
    "coef"
   ]
  },
  {
   "cell_type": "code",
   "execution_count": 106,
   "metadata": {},
   "outputs": [
    {
     "name": "stdout",
     "output_type": "stream",
     "text": [
      "             feature       VIF\n",
      "0              brand  1.465158\n",
      "1            country  3.236309\n",
      "2           currency  7.319249\n",
      "3  customers_per_day  0.136032\n",
      "4          outlet_id  4.695677\n",
      "5            week_id  3.902613\n",
      "6            weekday  3.098637\n"
     ]
    }
   ],
   "source": [
    "from statsmodels.stats.outliers_influence import variance_inflation_factor\n",
    "vif_data = pd.DataFrame()\n",
    "vif_data[\"feature\"] = X.columns\n",
    "vif_data[\"VIF\"] = [variance_inflation_factor(X.values, i)\n",
    "                          for i in range(len(X.columns))]\n",
    "  \n",
    "print(vif_data)"
   ]
  },
  {
   "cell_type": "code",
   "execution_count": null,
   "metadata": {},
   "outputs": [],
   "source": []
  },
  {
   "cell_type": "code",
   "execution_count": 99,
   "metadata": {},
   "outputs": [
    {
     "data": {
      "text/plain": [
       "0.5213576276174013"
      ]
     },
     "execution_count": 99,
     "metadata": {},
     "output_type": "execute_result"
    }
   ],
   "source": [
    "reg_lin.score(X_train,y_train)"
   ]
  },
  {
   "cell_type": "code",
   "execution_count": 101,
   "metadata": {},
   "outputs": [
    {
     "data": {
      "text/plain": [
       "<AxesSubplot:>"
      ]
     },
     "execution_count": 101,
     "metadata": {},
     "output_type": "execute_result"
    },
    {
     "data": {
      "image/png": "[encoded data removed]",
      "text/plain": [
       "<Figure size 576x360 with 1 Axes>"
      ]
     },
     "metadata": {
      "needs_background": "light"
     },
     "output_type": "display_data"
    }
   ],
   "source": [
    "plt.figure(figsize=(8,5))\n",
    "sns.barplot(reg_lin.coef_,features)"
   ]
  },
  {
   "cell_type": "markdown",
   "metadata": {},
   "source": [
    "# Model Evaluation"
   ]
  },
  {
   "cell_type": "code",
   "execution_count": 102,
   "metadata": {},
   "outputs": [
    {
     "data": {
      "text/plain": [
       "0.5422450376448769"
      ]
     },
     "execution_count": 102,
     "metadata": {},
     "output_type": "execute_result"
    }
   ],
   "source": [
    "R2 = r2_score(y_test,y_preds_lin)\n",
    "R2"
   ]
  },
  {
   "cell_type": "markdown",
   "metadata": {},
   "source": [
    "MAE and MSE:\n",
    "\n",
    "MAE : The mean absolute error (MAE) is a measure of errors between paired observations expressing the same phenomenon. \n",
    "    \n",
    "MSE : The mean squared error tells you how close a regression line is to a set of points. It does this by taking the distances from the points to the regression line (these distances are the “errors”) and squaring them."
   ]
  },
  {
   "cell_type": "code",
   "execution_count": 103,
   "metadata": {},
   "outputs": [
    {
     "name": "stdout",
     "output_type": "stream",
     "text": [
      "mean absolute error: 4364.202010224823\n",
      "mean squared error: 31113321.34065333\n"
     ]
    }
   ],
   "source": [
    "MAE= metrics.mean_absolute_error(y_test,y_preds_lin)\n",
    "MSE= metrics.mean_squared_error(y_test,y_preds_lin)\n",
    "\n",
    "print(\"mean absolute error:\",MAE)\n",
    "print(\"mean squared error:\",MSE)\n"
   ]
  },
  {
   "cell_type": "markdown",
   "metadata": {},
   "source": [
    "RMSE:\n",
    "    \n",
    "RMSE is a measure of how spread out these residuals are. In other words, it tells you how concentrated the data is around the line of best fit."
   ]
  },
  {
   "cell_type": "code",
   "execution_count": 104,
   "metadata": {},
   "outputs": [
    {
     "name": "stdout",
     "output_type": "stream",
     "text": [
      "Root Mean Squared Error: 5577.931636427013\n"
     ]
    }
   ],
   "source": [
    "from math import sqrt\n",
    "rmse = sqrt(MSE)\n",
    "print(\"Root Mean Squared Error:\",rmse)\n"
   ]
  },
  {
   "cell_type": "code",
   "execution_count": 105,
   "metadata": {},
   "outputs": [
    {
     "name": "stdout",
     "output_type": "stream",
     "text": [
      "Predicted Sales_per_day for new costumers: [52904.53984767 55659.93632783 71374.60570849 ... 55059.78909283\n",
      " 60827.13689705 68167.82438009]\n"
     ]
    }
   ],
   "source": [
    "predictions = reg_lin.predict(X_test)\n",
    "print(\"Predicted Sales_per_day for new costumers:\", predictions)"
   ]
  },
  {
   "cell_type": "markdown",
   "metadata": {},
   "source": [
    "# Random Forest Regressor"
   ]
  },
  {
   "cell_type": "code",
   "execution_count": 107,
   "metadata": {},
   "outputs": [],
   "source": [
    "RF= RandomForestRegressor(n_estimators=200,max_depth=5, min_samples_leaf=100,n_jobs=4,random_state=22)\n",
    "\n",
    "# Fitting the model on our trained dataset.\n",
    "RF.fit(X_train,y_train)\n",
    "\n",
    "# Making Predictions\n",
    "y_pred = RF.predict(X_test)"
   ]
  },
  {
   "cell_type": "code",
   "execution_count": 109,
   "metadata": {},
   "outputs": [
    {
     "data": {
      "text/plain": [
       "customers_per_day    0.628814\n",
       "weekday              0.353043\n",
       "week_id              0.017491\n",
       "outlet_id            0.000556\n",
       "country              0.000090\n",
       "brand                0.000006\n",
       "currency             0.000000\n",
       "dtype: float64"
      ]
     },
     "execution_count": 109,
     "metadata": {},
     "output_type": "execute_result"
    }
   ],
   "source": [
    "coef1 = pd.Series(RF.feature_importances_, features).sort_values(ascending=False)\n",
    "coef1"
   ]
  },
  {
   "cell_type": "code",
   "execution_count": 110,
   "metadata": {},
   "outputs": [
    {
     "data": {
      "text/plain": [
       "<AxesSubplot:>"
      ]
     },
     "execution_count": 110,
     "metadata": {},
     "output_type": "execute_result"
    },
    {
     "data": {
      "image/png": "[encoded data removed]",
      "text/plain": [
       "<Figure size 576x360 with 1 Axes>"
      ]
     },
     "metadata": {
      "needs_background": "light"
     },
     "output_type": "display_data"
    }
   ],
   "source": [
    "plt.figure(figsize=(8,5))\n",
    "sns.barplot(RF.feature_importances_,features)"
   ]
  },
  {
   "cell_type": "code",
   "execution_count": 111,
   "metadata": {},
   "outputs": [
    {
     "data": {
      "text/plain": [
       "0.6677772554045964"
      ]
     },
     "execution_count": 111,
     "metadata": {},
     "output_type": "execute_result"
    }
   ],
   "source": [
    "R2 = r2_score(y_test,y_pred)\n",
    "R2"
   ]
  },
  {
   "cell_type": "code",
   "execution_count": null,
   "metadata": {},
   "outputs": [],
   "source": []
  },
  {
   "cell_type": "markdown",
   "metadata": {},
   "source": [
    "# Model optimisation using Randomized Search CV"
   ]
  },
  {
   "cell_type": "code",
   "execution_count": 72,
   "metadata": {},
   "outputs": [],
   "source": [
    " #Randomized Search CV\n",
    "\n",
    "# Number of trees in random forest\n",
    "n_estimators = [int(x) for x in np.linspace(start = 100, stop = 1200, num = 12)]\n",
    "# Number of features to consider at every split\n",
    "max_features = ['auto', 'sqrt']\n",
    "# Maximum number of levels in tree\n",
    "max_depth = [int(x) for x in np.linspace(5, 30, num = 6)]\n",
    "# max_depth.append(None)\n",
    "# Minimum number of samples required to split a node\n",
    "min_samples_split = [2, 5, 10, 15, 100]\n",
    "# Minimum number of samples required at each leaf node\n",
    "min_samples_leaf = [1, 2, 5, 10]"
   ]
  },
  {
   "cell_type": "code",
   "execution_count": 73,
   "metadata": {},
   "outputs": [
    {
     "name": "stdout",
     "output_type": "stream",
     "text": [
      "{'n_estimators': [100, 200, 300, 400, 500, 600, 700, 800, 900, 1000, 1100, 1200], 'max_features': ['auto', 'sqrt'], 'max_depth': [5, 10, 15, 20, 25, 30], 'min_samples_split': [2, 5, 10, 15, 100], 'min_samples_leaf': [1, 2, 5, 10]}\n"
     ]
    }
   ],
   "source": [
    "# Create the random grid\n",
    "random_grid = {'n_estimators': n_estimators,\n",
    "               'max_features': max_features,\n",
    "               'max_depth': max_depth,\n",
    "               'min_samples_split': min_samples_split,\n",
    "               'min_samples_leaf': min_samples_leaf}\n",
    "\n",
    "print(random_grid)"
   ]
  },
  {
   "cell_type": "code",
   "execution_count": 74,
   "metadata": {},
   "outputs": [],
   "source": [
    "# Use the random grid to search for best hyperparameters\n",
    "# First create the base model to tune\n",
    "rf = RandomForestRegressor()"
   ]
  },
  {
   "cell_type": "code",
   "execution_count": 76,
   "metadata": {},
   "outputs": [],
   "source": [
    "# Random search of parameters, using 3 fold cross validation, \n",
    "# search across 100 different combinations\n",
    "rf_random = RandomizedSearchCV(estimator = rf, param_distributions = random_grid,scoring='neg_mean_squared_error', n_iter = 10, cv = 5, verbose=2, random_state=42, n_jobs =1)"
   ]
  },
  {
   "cell_type": "code",
   "execution_count": 77,
   "metadata": {},
   "outputs": [
    {
     "name": "stdout",
     "output_type": "stream",
     "text": [
      "Fitting 5 folds for each of 10 candidates, totalling 50 fits\n",
      "[CV] n_estimators=900, min_samples_split=5, min_samples_leaf=5, max_features=sqrt, max_depth=10 \n"
     ]
    },
    {
     "name": "stderr",
     "output_type": "stream",
     "text": [
      "[Parallel(n_jobs=1)]: Using backend SequentialBackend with 1 concurrent workers.\n"
     ]
    },
    {
     "name": "stdout",
     "output_type": "stream",
     "text": [
      "[CV]  n_estimators=900, min_samples_split=5, min_samples_leaf=5, max_features=sqrt, max_depth=10, total=  12.3s\n",
      "[CV] n_estimators=900, min_samples_split=5, min_samples_leaf=5, max_features=sqrt, max_depth=10 \n"
     ]
    },
    {
     "name": "stderr",
     "output_type": "stream",
     "text": [
      "[Parallel(n_jobs=1)]: Done   1 out of   1 | elapsed:   12.2s remaining:    0.0s\n"
     ]
    },
    {
     "name": "stdout",
     "output_type": "stream",
     "text": [
      "[CV]  n_estimators=900, min_samples_split=5, min_samples_leaf=5, max_features=sqrt, max_depth=10, total=  12.6s\n",
      "[CV] n_estimators=900, min_samples_split=5, min_samples_leaf=5, max_features=sqrt, max_depth=10 \n",
      "[CV]  n_estimators=900, min_samples_split=5, min_samples_leaf=5, max_features=sqrt, max_depth=10, total=  12.0s\n",
      "[CV] n_estimators=900, min_samples_split=5, min_samples_leaf=5, max_features=sqrt, max_depth=10 \n",
      "[CV]  n_estimators=900, min_samples_split=5, min_samples_leaf=5, max_features=sqrt, max_depth=10, total=  11.3s\n",
      "[CV] n_estimators=900, min_samples_split=5, min_samples_leaf=5, max_features=sqrt, max_depth=10 \n",
      "[CV]  n_estimators=900, min_samples_split=5, min_samples_leaf=5, max_features=sqrt, max_depth=10, total=  10.8s\n",
      "[CV] n_estimators=1100, min_samples_split=10, min_samples_leaf=2, max_features=sqrt, max_depth=15 \n",
      "[CV]  n_estimators=1100, min_samples_split=10, min_samples_leaf=2, max_features=sqrt, max_depth=15, total=  16.2s\n",
      "[CV] n_estimators=1100, min_samples_split=10, min_samples_leaf=2, max_features=sqrt, max_depth=15 \n",
      "[CV]  n_estimators=1100, min_samples_split=10, min_samples_leaf=2, max_features=sqrt, max_depth=15, total=  18.3s\n",
      "[CV] n_estimators=1100, min_samples_split=10, min_samples_leaf=2, max_features=sqrt, max_depth=15 \n",
      "[CV]  n_estimators=1100, min_samples_split=10, min_samples_leaf=2, max_features=sqrt, max_depth=15, total=  23.1s\n",
      "[CV] n_estimators=1100, min_samples_split=10, min_samples_leaf=2, max_features=sqrt, max_depth=15 \n",
      "[CV]  n_estimators=1100, min_samples_split=10, min_samples_leaf=2, max_features=sqrt, max_depth=15, total=  16.9s\n",
      "[CV] n_estimators=1100, min_samples_split=10, min_samples_leaf=2, max_features=sqrt, max_depth=15 \n",
      "[CV]  n_estimators=1100, min_samples_split=10, min_samples_leaf=2, max_features=sqrt, max_depth=15, total=  16.3s\n",
      "[CV] n_estimators=300, min_samples_split=100, min_samples_leaf=5, max_features=auto, max_depth=15 \n",
      "[CV]  n_estimators=300, min_samples_split=100, min_samples_leaf=5, max_features=auto, max_depth=15, total=   7.4s\n",
      "[CV] n_estimators=300, min_samples_split=100, min_samples_leaf=5, max_features=auto, max_depth=15 \n",
      "[CV]  n_estimators=300, min_samples_split=100, min_samples_leaf=5, max_features=auto, max_depth=15, total=   7.1s\n",
      "[CV] n_estimators=300, min_samples_split=100, min_samples_leaf=5, max_features=auto, max_depth=15 \n",
      "[CV]  n_estimators=300, min_samples_split=100, min_samples_leaf=5, max_features=auto, max_depth=15, total=   7.7s\n",
      "[CV] n_estimators=300, min_samples_split=100, min_samples_leaf=5, max_features=auto, max_depth=15 \n",
      "[CV]  n_estimators=300, min_samples_split=100, min_samples_leaf=5, max_features=auto, max_depth=15, total=   8.6s\n",
      "[CV] n_estimators=300, min_samples_split=100, min_samples_leaf=5, max_features=auto, max_depth=15 \n",
      "[CV]  n_estimators=300, min_samples_split=100, min_samples_leaf=5, max_features=auto, max_depth=15, total=   7.3s\n",
      "[CV] n_estimators=400, min_samples_split=5, min_samples_leaf=5, max_features=auto, max_depth=15 \n",
      "[CV]  n_estimators=400, min_samples_split=5, min_samples_leaf=5, max_features=auto, max_depth=15, total=  13.4s\n",
      "[CV] n_estimators=400, min_samples_split=5, min_samples_leaf=5, max_features=auto, max_depth=15 \n",
      "[CV]  n_estimators=400, min_samples_split=5, min_samples_leaf=5, max_features=auto, max_depth=15, total=  14.3s\n",
      "[CV] n_estimators=400, min_samples_split=5, min_samples_leaf=5, max_features=auto, max_depth=15 \n",
      "[CV]  n_estimators=400, min_samples_split=5, min_samples_leaf=5, max_features=auto, max_depth=15, total=  13.3s\n",
      "[CV] n_estimators=400, min_samples_split=5, min_samples_leaf=5, max_features=auto, max_depth=15 \n",
      "[CV]  n_estimators=400, min_samples_split=5, min_samples_leaf=5, max_features=auto, max_depth=15, total=  13.6s\n",
      "[CV] n_estimators=400, min_samples_split=5, min_samples_leaf=5, max_features=auto, max_depth=15 \n",
      "[CV]  n_estimators=400, min_samples_split=5, min_samples_leaf=5, max_features=auto, max_depth=15, total=  12.8s\n",
      "[CV] n_estimators=700, min_samples_split=5, min_samples_leaf=10, max_features=auto, max_depth=20 \n",
      "[CV]  n_estimators=700, min_samples_split=5, min_samples_leaf=10, max_features=auto, max_depth=20, total=  19.9s\n",
      "[CV] n_estimators=700, min_samples_split=5, min_samples_leaf=10, max_features=auto, max_depth=20 \n",
      "[CV]  n_estimators=700, min_samples_split=5, min_samples_leaf=10, max_features=auto, max_depth=20, total=  18.8s\n",
      "[CV] n_estimators=700, min_samples_split=5, min_samples_leaf=10, max_features=auto, max_depth=20 \n",
      "[CV]  n_estimators=700, min_samples_split=5, min_samples_leaf=10, max_features=auto, max_depth=20, total=  21.1s\n",
      "[CV] n_estimators=700, min_samples_split=5, min_samples_leaf=10, max_features=auto, max_depth=20 \n",
      "[CV]  n_estimators=700, min_samples_split=5, min_samples_leaf=10, max_features=auto, max_depth=20, total=  23.1s\n",
      "[CV] n_estimators=700, min_samples_split=5, min_samples_leaf=10, max_features=auto, max_depth=20 \n",
      "[CV]  n_estimators=700, min_samples_split=5, min_samples_leaf=10, max_features=auto, max_depth=20, total=  21.6s\n",
      "[CV] n_estimators=1000, min_samples_split=2, min_samples_leaf=1, max_features=sqrt, max_depth=25 \n",
      "[CV]  n_estimators=1000, min_samples_split=2, min_samples_leaf=1, max_features=sqrt, max_depth=25, total=  27.8s\n",
      "[CV] n_estimators=1000, min_samples_split=2, min_samples_leaf=1, max_features=sqrt, max_depth=25 \n",
      "[CV]  n_estimators=1000, min_samples_split=2, min_samples_leaf=1, max_features=sqrt, max_depth=25, total=  30.7s\n",
      "[CV] n_estimators=1000, min_samples_split=2, min_samples_leaf=1, max_features=sqrt, max_depth=25 \n",
      "[CV]  n_estimators=1000, min_samples_split=2, min_samples_leaf=1, max_features=sqrt, max_depth=25, total=  32.5s\n",
      "[CV] n_estimators=1000, min_samples_split=2, min_samples_leaf=1, max_features=sqrt, max_depth=25 \n",
      "[CV]  n_estimators=1000, min_samples_split=2, min_samples_leaf=1, max_features=sqrt, max_depth=25, total=  29.2s\n",
      "[CV] n_estimators=1000, min_samples_split=2, min_samples_leaf=1, max_features=sqrt, max_depth=25 \n",
      "[CV]  n_estimators=1000, min_samples_split=2, min_samples_leaf=1, max_features=sqrt, max_depth=25, total=  32.5s\n",
      "[CV] n_estimators=1100, min_samples_split=15, min_samples_leaf=10, max_features=sqrt, max_depth=5 \n",
      "[CV]  n_estimators=1100, min_samples_split=15, min_samples_leaf=10, max_features=sqrt, max_depth=5, total=   8.0s\n",
      "[CV] n_estimators=1100, min_samples_split=15, min_samples_leaf=10, max_features=sqrt, max_depth=5 \n",
      "[CV]  n_estimators=1100, min_samples_split=15, min_samples_leaf=10, max_features=sqrt, max_depth=5, total=   7.1s\n",
      "[CV] n_estimators=1100, min_samples_split=15, min_samples_leaf=10, max_features=sqrt, max_depth=5 \n",
      "[CV]  n_estimators=1100, min_samples_split=15, min_samples_leaf=10, max_features=sqrt, max_depth=5, total=   7.2s\n",
      "[CV] n_estimators=1100, min_samples_split=15, min_samples_leaf=10, max_features=sqrt, max_depth=5 \n",
      "[CV]  n_estimators=1100, min_samples_split=15, min_samples_leaf=10, max_features=sqrt, max_depth=5, total=   7.6s\n",
      "[CV] n_estimators=1100, min_samples_split=15, min_samples_leaf=10, max_features=sqrt, max_depth=5 \n",
      "[CV]  n_estimators=1100, min_samples_split=15, min_samples_leaf=10, max_features=sqrt, max_depth=5, total=   7.2s\n",
      "[CV] n_estimators=300, min_samples_split=15, min_samples_leaf=1, max_features=sqrt, max_depth=15 \n",
      "[CV]  n_estimators=300, min_samples_split=15, min_samples_leaf=1, max_features=sqrt, max_depth=15, total=   3.6s\n",
      "[CV] n_estimators=300, min_samples_split=15, min_samples_leaf=1, max_features=sqrt, max_depth=15 \n",
      "[CV]  n_estimators=300, min_samples_split=15, min_samples_leaf=1, max_features=sqrt, max_depth=15, total=   3.9s\n",
      "[CV] n_estimators=300, min_samples_split=15, min_samples_leaf=1, max_features=sqrt, max_depth=15 \n",
      "[CV]  n_estimators=300, min_samples_split=15, min_samples_leaf=1, max_features=sqrt, max_depth=15, total=   3.8s\n",
      "[CV] n_estimators=300, min_samples_split=15, min_samples_leaf=1, max_features=sqrt, max_depth=15 \n",
      "[CV]  n_estimators=300, min_samples_split=15, min_samples_leaf=1, max_features=sqrt, max_depth=15, total=   3.9s\n",
      "[CV] n_estimators=300, min_samples_split=15, min_samples_leaf=1, max_features=sqrt, max_depth=15 \n",
      "[CV]  n_estimators=300, min_samples_split=15, min_samples_leaf=1, max_features=sqrt, max_depth=15, total=   3.8s\n",
      "[CV] n_estimators=700, min_samples_split=10, min_samples_leaf=2, max_features=sqrt, max_depth=5 \n"
     ]
    },
    {
     "name": "stdout",
     "output_type": "stream",
     "text": [
      "[CV]  n_estimators=700, min_samples_split=10, min_samples_leaf=2, max_features=sqrt, max_depth=5, total=   4.5s\n",
      "[CV] n_estimators=700, min_samples_split=10, min_samples_leaf=2, max_features=sqrt, max_depth=5 \n",
      "[CV]  n_estimators=700, min_samples_split=10, min_samples_leaf=2, max_features=sqrt, max_depth=5, total=   6.1s\n",
      "[CV] n_estimators=700, min_samples_split=10, min_samples_leaf=2, max_features=sqrt, max_depth=5 \n",
      "[CV]  n_estimators=700, min_samples_split=10, min_samples_leaf=2, max_features=sqrt, max_depth=5, total=   6.5s\n",
      "[CV] n_estimators=700, min_samples_split=10, min_samples_leaf=2, max_features=sqrt, max_depth=5 \n",
      "[CV]  n_estimators=700, min_samples_split=10, min_samples_leaf=2, max_features=sqrt, max_depth=5, total=   5.9s\n",
      "[CV] n_estimators=700, min_samples_split=10, min_samples_leaf=2, max_features=sqrt, max_depth=5 \n",
      "[CV]  n_estimators=700, min_samples_split=10, min_samples_leaf=2, max_features=sqrt, max_depth=5, total=   5.2s\n",
      "[CV] n_estimators=700, min_samples_split=15, min_samples_leaf=1, max_features=auto, max_depth=20 \n",
      "[CV]  n_estimators=700, min_samples_split=15, min_samples_leaf=1, max_features=auto, max_depth=20, total=  24.3s\n",
      "[CV] n_estimators=700, min_samples_split=15, min_samples_leaf=1, max_features=auto, max_depth=20 \n",
      "[CV]  n_estimators=700, min_samples_split=15, min_samples_leaf=1, max_features=auto, max_depth=20, total=  24.7s\n",
      "[CV] n_estimators=700, min_samples_split=15, min_samples_leaf=1, max_features=auto, max_depth=20 \n",
      "[CV]  n_estimators=700, min_samples_split=15, min_samples_leaf=1, max_features=auto, max_depth=20, total=  24.8s\n",
      "[CV] n_estimators=700, min_samples_split=15, min_samples_leaf=1, max_features=auto, max_depth=20 \n",
      "[CV]  n_estimators=700, min_samples_split=15, min_samples_leaf=1, max_features=auto, max_depth=20, total=  36.8s\n",
      "[CV] n_estimators=700, min_samples_split=15, min_samples_leaf=1, max_features=auto, max_depth=20 \n",
      "[CV]  n_estimators=700, min_samples_split=15, min_samples_leaf=1, max_features=auto, max_depth=20, total=  36.7s\n"
     ]
    },
    {
     "name": "stderr",
     "output_type": "stream",
     "text": [
      "[Parallel(n_jobs=1)]: Done  50 out of  50 | elapsed: 12.4min finished\n"
     ]
    },
    {
     "data": {
      "text/plain": [
       "RandomizedSearchCV(cv=5, estimator=RandomForestRegressor(), n_jobs=1,\n",
       "                   param_distributions={'max_depth': [5, 10, 15, 20, 25, 30],\n",
       "                                        'max_features': ['auto', 'sqrt'],\n",
       "                                        'min_samples_leaf': [1, 2, 5, 10],\n",
       "                                        'min_samples_split': [2, 5, 10, 15,\n",
       "                                                              100],\n",
       "                                        'n_estimators': [100, 200, 300, 400,\n",
       "                                                         500, 600, 700, 800,\n",
       "                                                         900, 1000, 1100,\n",
       "                                                         1200]},\n",
       "                   random_state=42, scoring='neg_mean_squared_error',\n",
       "                   verbose=2)"
      ]
     },
     "execution_count": 77,
     "metadata": {},
     "output_type": "execute_result"
    }
   ],
   "source": [
    "rf_random.fit(X_train,y_train)"
   ]
  },
  {
   "cell_type": "code",
   "execution_count": 79,
   "metadata": {},
   "outputs": [
    {
     "data": {
      "text/plain": [
       "{'n_estimators': 300,\n",
       " 'min_samples_split': 100,\n",
       " 'min_samples_leaf': 5,\n",
       " 'max_features': 'auto',\n",
       " 'max_depth': 15}"
      ]
     },
     "execution_count": 79,
     "metadata": {},
     "output_type": "execute_result"
    }
   ],
   "source": [
    "rf_random.best_params_"
   ]
  },
  {
   "cell_type": "code",
   "execution_count": 80,
   "metadata": {},
   "outputs": [
    {
     "data": {
      "text/plain": [
       "-22630445.780923616"
      ]
     },
     "execution_count": 80,
     "metadata": {},
     "output_type": "execute_result"
    }
   ],
   "source": [
    "rf_random.best_score_"
   ]
  },
  {
   "cell_type": "code",
   "execution_count": 81,
   "metadata": {},
   "outputs": [],
   "source": [
    "predictions=rf_random.predict(X_test)"
   ]
  },
  {
   "cell_type": "code",
   "execution_count": 82,
   "metadata": {},
   "outputs": [
    {
     "data": {
      "text/plain": [
       "<AxesSubplot:xlabel='sales_per_day', ylabel='Density'>"
      ]
     },
     "execution_count": 82,
     "metadata": {},
     "output_type": "execute_result"
    },
    {
     "data": {
      "image/png": "[encoded data removed]",
      "text/plain": [
       "<Figure size 432x288 with 1 Axes>"
      ]
     },
     "metadata": {
      "needs_background": "light"
     },
     "output_type": "display_data"
    }
   ],
   "source": [
    "sns.distplot(y_test-predictions)"
   ]
  },
  {
   "cell_type": "code",
   "execution_count": 83,
   "metadata": {},
   "outputs": [
    {
     "data": {
      "text/plain": [
       "<matplotlib.collections.PathCollection at 0x146c47efb20>"
      ]
     },
     "execution_count": 83,
     "metadata": {},
     "output_type": "execute_result"
    },
    {
     "data": {
      "image/png": "[encoded data removed]",
      "text/plain": [
       "<Figure size 432x288 with 1 Axes>"
      ]
     },
     "metadata": {
      "needs_background": "light"
     },
     "output_type": "display_data"
    }
   ],
   "source": [
    "plt.scatter(y_test,predictions)"
   ]
  },
  {
   "cell_type": "code",
   "execution_count": 85,
   "metadata": {},
   "outputs": [
    {
     "name": "stdout",
     "output_type": "stream",
     "text": [
      "MAE: 3603.2446193605797\n",
      "MSE: 20983310.95570101\n",
      "RMSE: 4580.754409013979\n"
     ]
    }
   ],
   "source": [
    "print('MAE:', metrics.mean_absolute_error(y_test, predictions))\n",
    "print('MSE:', metrics.mean_squared_error(y_test, predictions))\n",
    "print('RMSE:', np.sqrt(metrics.mean_squared_error(y_test, predictions)))"
   ]
  },
  {
   "cell_type": "code",
   "execution_count": 87,
   "metadata": {},
   "outputs": [
    {
     "data": {
      "text/plain": [
       "0.6912828877557865"
      ]
     },
     "execution_count": 87,
     "metadata": {},
     "output_type": "execute_result"
    }
   ],
   "source": [
    "R2 = r2_score(y_test,predictions)\n",
    "R2"
   ]
  },
  {
   "cell_type": "code",
   "execution_count": 88,
   "metadata": {},
   "outputs": [],
   "source": [
    "import pickle\n",
    "# open a file, where you ant to store the data\n",
    "file = open('random_forest_regression_model.pkl', 'wb')\n",
    "\n",
    "# dump information to that file\n",
    "pickle.dump(rf_random, file)"
   ]
  }
 ],
 "metadata": {
  "environment": {
   "name": "tf2-gpu.2-4.mnightly-2021-02-12-debian-10-test",
   "type": "gcloud",
   "uri": "gcr.io/deeplearning-platform-release/tf2-gpu.2-4:mnightly-2021-02-12-debian-10-test"
  },
  "kernelspec": {
   "display_name": "Python 3",
   "language": "python",
   "name": "python3"
  },
  "language_info": {
   "codemirror_mode": {
    "name": "ipython",
    "version": 3
   },
   "file_extension": ".py",
   "mimetype": "text/x-python",
   "name": "python",
   "nbconvert_exporter": "python",
   "pygments_lexer": "ipython3",
   "version": "3.8.5"
  }
 },
 "nbformat": 4,
 "nbformat_minor": 4
}
